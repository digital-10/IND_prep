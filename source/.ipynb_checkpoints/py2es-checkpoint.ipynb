{
 "cells": [
  {
   "cell_type": "code",
   "execution_count": 1,
   "id": "d90fa048",
   "metadata": {},
   "outputs": [],
   "source": [
    "from elasticsearch import helpers, Elasticsearch\n",
    "import csv\n",
    "import pandas as pd\n",
    "import time\n",
    "import datetime\n",
    "from datetime import timedelta\n",
    "import os"
   ]
  },
  {
   "cell_type": "code",
   "execution_count": 2,
   "id": "8e0ccd74",
   "metadata": {},
   "outputs": [],
   "source": [
    "def utc_time():  # @timestamp timezone을 utc로 설정하여 kibana로 index 생성시 참조\n",
    "    return datetime.datetime.utcnow().strftime('%Y-%m-%dT%H:%M:%S') + 'Z'\n",
    "\n",
    "def p2w(df):\n",
    "    df = df.copy()  \n",
    "    try:\n",
    "        docu = df.to_dict()\n",
    "        print(docu)\n",
    "        res = es.index(index=index, body=docu)\n",
    "    except Exception as e:\n",
    "            print(e)"
   ]
  },
  {
   "cell_type": "code",
   "execution_count": 3,
   "id": "522f7b86",
   "metadata": {
    "scrolled": true
   },
   "outputs": [],
   "source": [
    "ELASTIC_PASSWORD = \"elastic\"\n",
    "es = Elasticsearch(\n",
    "    hosts=\"http://192.168.10.17:9200\",    \n",
    "    basic_auth=(\"elastic\", ELASTIC_PASSWORD) )\n",
    "# )\n",
    "es.info()\n",
    "\n",
    "def delete_es(index):\n",
    "    es.indices.delete(index=index, ignore=[400, 404])\n",
    "    \n",
    "index = \"LC_DCS_HEAT_DEMAND_STAT_HOUR\".lower()"
   ]
  },
  {
   "cell_type": "code",
   "execution_count": 4,
   "id": "8f92c76a",
   "metadata": {},
   "outputs": [
    {
     "name": "stderr",
     "output_type": "stream",
     "text": [
      "C:\\Users\\Digitalship_PC\\AppData\\Local\\Temp\\ipykernel_23228\\824384968.py:9: DeprecationWarning: Passing transport options in the API method is deprecated. Use 'Elasticsearch.options()' instead.\n",
      "  es.indices.delete(index=index, ignore=[400, 404])\n"
     ]
    }
   ],
   "source": [
    "delete_es(index)"
   ]
  },
  {
   "cell_type": "code",
   "execution_count": 5,
   "id": "216d1a40",
   "metadata": {},
   "outputs": [],
   "source": [
    "if es.indices.exists(index=index):\n",
    "\tpass\n",
    "else:\n",
    "\tes.indices.create(index=index) #, body=mapping)"
   ]
  },
  {
   "cell_type": "code",
   "execution_count": 6,
   "id": "c45419db",
   "metadata": {},
   "outputs": [],
   "source": [
    "# files = od.listdir(r\"C:\\Users\\jh\\0py_dev\\digitalship\\dcat\\input_data\\iot2\")\n",
    "\n",
    "# df = pd.read_csv(r\"C:\\Users\\jh\\0py_dev\\digitalship\\dcat\\input_data\\iot2\\LC_DCS_HEAT_DEMAND_STAT_HOUR_202306070859.csv\")\n",
    "# # df['date'] = df['DT'] + ' ' + df['HT']\n",
    "# df['date'] = pd.to_datetime(df['date'], format='%Y-%m-%d %H:%M:%S')\n",
    "# df['date'] = df['date'].dt.strftime('%Y-%m-%dT%H:%M:%S.000') + 'Z'\n",
    "# # df = df.drop(columns=['DT','HT'])\n",
    "# df.columns = df.columns.str.lower()\n",
    "# col = ['date', 'heat_demand_hour_mean', 'heat_demand_hour_max', 'heat_demand_hour_min', 'heat_demand_hour_total', 'reg_dt']\n",
    "# df = df[col]\n",
    "# df[col[1]] = df[col[1]].fillna(0).astype(int)\n",
    "# df[col[2]] = df[col[2]].fillna(0).astype(int)\n",
    "# df[col[3]] = df[col[3]].fillna(0).astype(int)\n",
    "# df[col[4]] = df[col[4]].fillna(0).astype(int)\n",
    "# df"
   ]
  },
  {
   "cell_type": "code",
   "execution_count": null,
   "id": "aebed6e6",
   "metadata": {},
   "outputs": [],
   "source": [
    "data_path = r\"C:\\Users\\Digitalship_PC\\pydev\\digitalship\\dcat\\input_data\\iot\"\n",
    "files = os.listdir(data_path)\n",
    "files.sort()\n",
    "df = pd.DataFrame()\n",
    "for f in files[0:50]:\n",
    "    temp = pd.read_csv(rf'{data_path}\\{f}')\n",
    "    temp['DATE'] = pd.to_datetime(temp['DATE'], format='%Y-%m-%d %H:%M:%S') - timedelta(hours=9)\n",
    "    temp['DATE'] = temp['DATE'].dt.strftime('%Y-%m-%dT%H:%M:%S.000')# + 'Z'    \n",
    "    temp.columns = temp.columns.str.lower()\n",
    "    col = ['date', 'heat_demand_hour_mean', 'heat_demand_hour_max', 'heat_demand_hour_min', 'heat_demand_hour_total', 'reg_dt']\n",
    "    temp = temp[col]\n",
    "    df = pd.concat([df, temp])\n",
    "    \n",
    "df.to_csv(r\"C:\\Users\\Digitalship_PC\\pydev\\digitalship\\source\\elastic_data.csv\", index=False)\n",
    "df"
   ]
  },
  {
   "cell_type": "code",
   "execution_count": null,
   "id": "ccc888ef",
   "metadata": {
    "scrolled": false
   },
   "outputs": [
    {
     "data": {
      "text/plain": [
       "date                      2019-12-12T16:00:00.000\n",
       "heat_demand_hour_mean                 10752.81711\n",
       "heat_demand_hour_max                     12020.03\n",
       "heat_demand_hour_min                     9133.879\n",
       "heat_demand_hour_total               38656377.512\n",
       "reg_dt                        2020-06-28 15:17:07\n",
       "Name: 0, dtype: object"
      ]
     },
     "metadata": {},
     "output_type": "display_data"
    },
    {
     "name": "stdout",
     "output_type": "stream",
     "text": [
      "{'date': '2019-12-12T16:00:00.000', 'heat_demand_hour_mean': 10752.817110431157, 'heat_demand_hour_max': 12020.03, 'heat_demand_hour_min': 9133.879, 'heat_demand_hour_total': 38656377.51200001, 'reg_dt': '2020-06-28 15:17:07'}\n"
     ]
    },
    {
     "name": "stderr",
     "output_type": "stream",
     "text": [
      "C:\\Users\\Digitalship_PC\\AppData\\Local\\Temp\\ipykernel_23228\\587498895.py:9: DeprecationWarning: The 'body' parameter is deprecated and will be removed in a future version. Instead use the 'document' parameter. See https://github.com/elastic/elasticsearch-py/issues/1698 for more information\n",
      "  res = es.index(index=index, body=docu)\n"
     ]
    },
    {
     "data": {
      "text/plain": [
       "date                      2019-12-12T17:00:00.000\n",
       "heat_demand_hour_mean                 9908.163398\n",
       "heat_demand_hour_max                     11387.31\n",
       "heat_demand_hour_min                     8084.865\n",
       "heat_demand_hour_total               35629755.578\n",
       "reg_dt                        2020-06-28 15:17:07\n",
       "Name: 0, dtype: object"
      ]
     },
     "metadata": {},
     "output_type": "display_data"
    },
    {
     "name": "stdout",
     "output_type": "stream",
     "text": [
      "{'date': '2019-12-12T17:00:00.000', 'heat_demand_hour_mean': 9908.16339766406, 'heat_demand_hour_max': 11387.31, 'heat_demand_hour_min': 8084.865, 'heat_demand_hour_total': 35629755.57799996, 'reg_dt': '2020-06-28 15:17:07'}\n"
     ]
    },
    {
     "name": "stderr",
     "output_type": "stream",
     "text": [
      "C:\\Users\\Digitalship_PC\\AppData\\Local\\Temp\\ipykernel_23228\\587498895.py:9: DeprecationWarning: The 'body' parameter is deprecated and will be removed in a future version. Instead use the 'document' parameter. See https://github.com/elastic/elasticsearch-py/issues/1698 for more information\n",
      "  res = es.index(index=index, body=docu)\n"
     ]
    },
    {
     "data": {
      "text/plain": [
       "date                      2019-12-12T18:00:00.000\n",
       "heat_demand_hour_mean                 9338.988207\n",
       "heat_demand_hour_max                     11046.24\n",
       "heat_demand_hour_min                     7559.211\n",
       "heat_demand_hour_total               33583001.592\n",
       "reg_dt                        2020-06-28 15:17:07\n",
       "Name: 0, dtype: object"
      ]
     },
     "metadata": {},
     "output_type": "display_data"
    },
    {
     "name": "stdout",
     "output_type": "stream",
     "text": [
      "{'date': '2019-12-12T18:00:00.000', 'heat_demand_hour_mean': 9338.988206896558, 'heat_demand_hour_max': 11046.24, 'heat_demand_hour_min': 7559.211, 'heat_demand_hour_total': 33583001.59200002, 'reg_dt': '2020-06-28 15:17:07'}\n"
     ]
    },
    {
     "name": "stderr",
     "output_type": "stream",
     "text": [
      "C:\\Users\\Digitalship_PC\\AppData\\Local\\Temp\\ipykernel_23228\\587498895.py:9: DeprecationWarning: The 'body' parameter is deprecated and will be removed in a future version. Instead use the 'document' parameter. See https://github.com/elastic/elasticsearch-py/issues/1698 for more information\n",
      "  res = es.index(index=index, body=docu)\n"
     ]
    },
    {
     "data": {
      "text/plain": [
       "date                      2019-12-12T19:00:00.000\n",
       "heat_demand_hour_mean                 8958.923677\n",
       "heat_demand_hour_max                     10095.53\n",
       "heat_demand_hour_min                     7335.011\n",
       "heat_demand_hour_total                32207330.62\n",
       "reg_dt                        2020-06-28 15:17:07\n",
       "Name: 0, dtype: object"
      ]
     },
     "metadata": {},
     "output_type": "display_data"
    },
    {
     "name": "stdout",
     "output_type": "stream",
     "text": [
      "{'date': '2019-12-12T19:00:00.000', 'heat_demand_hour_mean': 8958.92367732964, 'heat_demand_hour_max': 10095.53, 'heat_demand_hour_min': 7335.011, 'heat_demand_hour_total': 32207330.620000053, 'reg_dt': '2020-06-28 15:17:07'}\n"
     ]
    },
    {
     "name": "stderr",
     "output_type": "stream",
     "text": [
      "C:\\Users\\Digitalship_PC\\AppData\\Local\\Temp\\ipykernel_23228\\587498895.py:9: DeprecationWarning: The 'body' parameter is deprecated and will be removed in a future version. Instead use the 'document' parameter. See https://github.com/elastic/elasticsearch-py/issues/1698 for more information\n",
      "  res = es.index(index=index, body=docu)\n"
     ]
    },
    {
     "data": {
      "text/plain": [
       "date                      2019-12-12T20:00:00.000\n",
       "heat_demand_hour_mean                 8798.522806\n",
       "heat_demand_hour_max                     10038.19\n",
       "heat_demand_hour_min                      7325.01\n",
       "heat_demand_hour_total               31639488.009\n",
       "reg_dt                        2020-06-28 15:17:07\n",
       "Name: 0, dtype: object"
      ]
     },
     "metadata": {},
     "output_type": "display_data"
    },
    {
     "name": "stdout",
     "output_type": "stream",
     "text": [
      "{'date': '2019-12-12T20:00:00.000', 'heat_demand_hour_mean': 8798.52280561732, 'heat_demand_hour_max': 10038.19, 'heat_demand_hour_min': 7325.01, 'heat_demand_hour_total': 31639488.00899988, 'reg_dt': '2020-06-28 15:17:07'}\n"
     ]
    },
    {
     "name": "stderr",
     "output_type": "stream",
     "text": [
      "C:\\Users\\Digitalship_PC\\AppData\\Local\\Temp\\ipykernel_23228\\587498895.py:9: DeprecationWarning: The 'body' parameter is deprecated and will be removed in a future version. Instead use the 'document' parameter. See https://github.com/elastic/elasticsearch-py/issues/1698 for more information\n",
      "  res = es.index(index=index, body=docu)\n"
     ]
    },
    {
     "data": {
      "text/plain": [
       "date                      2019-12-12T21:00:00.000\n",
       "heat_demand_hour_mean                 8964.923741\n",
       "heat_demand_hour_max                      10076.8\n",
       "heat_demand_hour_min                     7421.648\n",
       "heat_demand_hour_total                32228900.85\n",
       "reg_dt                        2020-06-28 15:17:07\n",
       "Name: 0, dtype: object"
      ]
     },
     "metadata": {},
     "output_type": "display_data"
    },
    {
     "name": "stdout",
     "output_type": "stream",
     "text": [
      "{'date': '2019-12-12T21:00:00.000', 'heat_demand_hour_mean': 8964.92374130737, 'heat_demand_hour_max': 10076.8, 'heat_demand_hour_min': 7421.648, 'heat_demand_hour_total': 32228900.85, 'reg_dt': '2020-06-28 15:17:07'}\n"
     ]
    },
    {
     "name": "stderr",
     "output_type": "stream",
     "text": [
      "C:\\Users\\Digitalship_PC\\AppData\\Local\\Temp\\ipykernel_23228\\587498895.py:9: DeprecationWarning: The 'body' parameter is deprecated and will be removed in a future version. Instead use the 'document' parameter. See https://github.com/elastic/elasticsearch-py/issues/1698 for more information\n",
      "  res = es.index(index=index, body=docu)\n"
     ]
    },
    {
     "data": {
      "text/plain": [
       "date                      2019-12-12T22:00:00.000\n",
       "heat_demand_hour_mean                10158.999054\n",
       "heat_demand_hour_max                     11635.77\n",
       "heat_demand_hour_min                      8587.94\n",
       "heat_demand_hour_total               36531760.598\n",
       "reg_dt                        2020-06-28 15:17:07\n",
       "Name: 0, dtype: object"
      ]
     },
     "metadata": {},
     "output_type": "display_data"
    },
    {
     "name": "stdout",
     "output_type": "stream",
     "text": [
      "{'date': '2019-12-12T22:00:00.000', 'heat_demand_hour_mean': 10158.999053948824, 'heat_demand_hour_max': 11635.77, 'heat_demand_hour_min': 8587.94, 'heat_demand_hour_total': 36531760.59799997, 'reg_dt': '2020-06-28 15:17:07'}\n"
     ]
    },
    {
     "name": "stderr",
     "output_type": "stream",
     "text": [
      "C:\\Users\\Digitalship_PC\\AppData\\Local\\Temp\\ipykernel_23228\\587498895.py:9: DeprecationWarning: The 'body' parameter is deprecated and will be removed in a future version. Instead use the 'document' parameter. See https://github.com/elastic/elasticsearch-py/issues/1698 for more information\n",
      "  res = es.index(index=index, body=docu)\n"
     ]
    },
    {
     "data": {
      "text/plain": [
       "date                      2019-12-12T23:00:00.000\n",
       "heat_demand_hour_mean                12267.364244\n",
       "heat_demand_hour_max                      13599.5\n",
       "heat_demand_hour_min                     10249.47\n",
       "heat_demand_hour_total                44113441.82\n",
       "reg_dt                        2020-06-28 15:17:07\n",
       "Name: 0, dtype: object"
      ]
     },
     "metadata": {},
     "output_type": "display_data"
    },
    {
     "name": "stdout",
     "output_type": "stream",
     "text": [
      "{'date': '2019-12-12T23:00:00.000', 'heat_demand_hour_mean': 12267.364243604006, 'heat_demand_hour_max': 13599.5, 'heat_demand_hour_min': 10249.47, 'heat_demand_hour_total': 44113441.82000001, 'reg_dt': '2020-06-28 15:17:07'}\n"
     ]
    },
    {
     "name": "stderr",
     "output_type": "stream",
     "text": [
      "C:\\Users\\Digitalship_PC\\AppData\\Local\\Temp\\ipykernel_23228\\587498895.py:9: DeprecationWarning: The 'body' parameter is deprecated and will be removed in a future version. Instead use the 'document' parameter. See https://github.com/elastic/elasticsearch-py/issues/1698 for more information\n",
      "  res = es.index(index=index, body=docu)\n"
     ]
    },
    {
     "data": {
      "text/plain": [
       "date                      2019-12-13T00:00:00.000\n",
       "heat_demand_hour_mean                13240.399775\n",
       "heat_demand_hour_max                     16300.56\n",
       "heat_demand_hour_min                     11249.62\n",
       "heat_demand_hour_total                47599237.19\n",
       "reg_dt                        2020-06-28 15:17:07\n",
       "Name: 0, dtype: object"
      ]
     },
     "metadata": {},
     "output_type": "display_data"
    },
    {
     "name": "stdout",
     "output_type": "stream",
     "text": [
      "{'date': '2019-12-13T00:00:00.000', 'heat_demand_hour_mean': 13240.399774687105, 'heat_demand_hour_max': 16300.56, 'heat_demand_hour_min': 11249.62, 'heat_demand_hour_total': 47599237.19000014, 'reg_dt': '2020-06-28 15:17:07'}\n"
     ]
    },
    {
     "name": "stderr",
     "output_type": "stream",
     "text": [
      "C:\\Users\\Digitalship_PC\\AppData\\Local\\Temp\\ipykernel_23228\\587498895.py:9: DeprecationWarning: The 'body' parameter is deprecated and will be removed in a future version. Instead use the 'document' parameter. See https://github.com/elastic/elasticsearch-py/issues/1698 for more information\n",
      "  res = es.index(index=index, body=docu)\n"
     ]
    },
    {
     "data": {
      "text/plain": [
       "date                      2019-12-13T01:00:00.000\n",
       "heat_demand_hour_mean                11054.912972\n",
       "heat_demand_hour_max                     13199.53\n",
       "heat_demand_hour_min                     8927.706\n",
       "heat_demand_hour_total               39753467.046\n",
       "reg_dt                        2020-06-28 15:17:07\n",
       "Name: 0, dtype: object"
      ]
     },
     "metadata": {},
     "output_type": "display_data"
    },
    {
     "name": "stdout",
     "output_type": "stream",
     "text": [
      "{'date': '2019-12-13T01:00:00.000', 'heat_demand_hour_mean': 11054.912971635158, 'heat_demand_hour_max': 13199.53, 'heat_demand_hour_min': 8927.706, 'heat_demand_hour_total': 39753467.046000026, 'reg_dt': '2020-06-28 15:17:07'}\n"
     ]
    },
    {
     "name": "stderr",
     "output_type": "stream",
     "text": [
      "C:\\Users\\Digitalship_PC\\AppData\\Local\\Temp\\ipykernel_23228\\587498895.py:9: DeprecationWarning: The 'body' parameter is deprecated and will be removed in a future version. Instead use the 'document' parameter. See https://github.com/elastic/elasticsearch-py/issues/1698 for more information\n",
      "  res = es.index(index=index, body=docu)\n"
     ]
    },
    {
     "data": {
      "text/plain": [
       "date                      2019-12-13T02:00:00.000\n",
       "heat_demand_hour_mean                 8964.350003\n",
       "heat_demand_hour_max                     10969.09\n",
       "heat_demand_hour_min                     7079.227\n",
       "heat_demand_hour_total               32235802.611\n",
       "reg_dt                        2020-06-28 15:17:07\n",
       "Name: 0, dtype: object"
      ]
     },
     "metadata": {},
     "output_type": "display_data"
    },
    {
     "name": "stdout",
     "output_type": "stream",
     "text": [
      "{'date': '2019-12-13T02:00:00.000', 'heat_demand_hour_mean': 8964.350003058935, 'heat_demand_hour_max': 10969.09, 'heat_demand_hour_min': 7079.227, 'heat_demand_hour_total': 32235802.610999927, 'reg_dt': '2020-06-28 15:17:07'}\n"
     ]
    },
    {
     "name": "stderr",
     "output_type": "stream",
     "text": [
      "C:\\Users\\Digitalship_PC\\AppData\\Local\\Temp\\ipykernel_23228\\587498895.py:9: DeprecationWarning: The 'body' parameter is deprecated and will be removed in a future version. Instead use the 'document' parameter. See https://github.com/elastic/elasticsearch-py/issues/1698 for more information\n",
      "  res = es.index(index=index, body=docu)\n"
     ]
    },
    {
     "data": {
      "text/plain": [
       "date                      2019-12-13T03:00:00.000\n",
       "heat_demand_hour_mean                 7702.497671\n",
       "heat_demand_hour_max                     9728.578\n",
       "heat_demand_hour_min                     5812.857\n",
       "heat_demand_hour_total               27698181.625\n",
       "reg_dt                        2020-06-28 15:17:07\n",
       "Name: 0, dtype: object"
      ]
     },
     "metadata": {},
     "output_type": "display_data"
    },
    {
     "name": "stdout",
     "output_type": "stream",
     "text": [
      "{'date': '2019-12-13T03:00:00.000', 'heat_demand_hour_mean': 7702.497671023357, 'heat_demand_hour_max': 9728.578, 'heat_demand_hour_min': 5812.857, 'heat_demand_hour_total': 27698181.625, 'reg_dt': '2020-06-28 15:17:07'}\n"
     ]
    },
    {
     "name": "stderr",
     "output_type": "stream",
     "text": [
      "C:\\Users\\Digitalship_PC\\AppData\\Local\\Temp\\ipykernel_23228\\587498895.py:9: DeprecationWarning: The 'body' parameter is deprecated and will be removed in a future version. Instead use the 'document' parameter. See https://github.com/elastic/elasticsearch-py/issues/1698 for more information\n",
      "  res = es.index(index=index, body=docu)\n"
     ]
    },
    {
     "data": {
      "text/plain": [
       "date                      2019-12-13T04:00:00.000\n",
       "heat_demand_hour_mean                  7112.00379\n",
       "heat_demand_hour_max                     8726.122\n",
       "heat_demand_hour_min                     5900.655\n",
       "heat_demand_hour_total               25567653.625\n",
       "reg_dt                        2020-06-28 15:17:07\n",
       "Name: 0, dtype: object"
      ]
     },
     "metadata": {},
     "output_type": "display_data"
    },
    {
     "name": "stdout",
     "output_type": "stream",
     "text": [
      "{'date': '2019-12-13T04:00:00.000', 'heat_demand_hour_mean': 7112.003789986107, 'heat_demand_hour_max': 8726.122, 'heat_demand_hour_min': 5900.655, 'heat_demand_hour_total': 25567653.625000056, 'reg_dt': '2020-06-28 15:17:07'}\n"
     ]
    },
    {
     "name": "stderr",
     "output_type": "stream",
     "text": [
      "C:\\Users\\Digitalship_PC\\AppData\\Local\\Temp\\ipykernel_23228\\587498895.py:9: DeprecationWarning: The 'body' parameter is deprecated and will be removed in a future version. Instead use the 'document' parameter. See https://github.com/elastic/elasticsearch-py/issues/1698 for more information\n",
      "  res = es.index(index=index, body=docu)\n"
     ]
    },
    {
     "data": {
      "text/plain": [
       "date                      2019-12-13T05:00:00.000\n",
       "heat_demand_hour_mean                 6993.884993\n",
       "heat_demand_hour_max                     8461.058\n",
       "heat_demand_hour_min                     5469.579\n",
       "heat_demand_hour_total               25150010.434\n",
       "reg_dt                        2020-06-28 15:17:07\n",
       "Name: 0, dtype: object"
      ]
     },
     "metadata": {},
     "output_type": "display_data"
    },
    {
     "name": "stdout",
     "output_type": "stream",
     "text": [
      "{'date': '2019-12-13T05:00:00.000', 'heat_demand_hour_mean': 6993.884992769743, 'heat_demand_hour_max': 8461.058, 'heat_demand_hour_min': 5469.579, 'heat_demand_hour_total': 25150010.434, 'reg_dt': '2020-06-28 15:17:07'}\n"
     ]
    },
    {
     "name": "stderr",
     "output_type": "stream",
     "text": [
      "C:\\Users\\Digitalship_PC\\AppData\\Local\\Temp\\ipykernel_23228\\587498895.py:9: DeprecationWarning: The 'body' parameter is deprecated and will be removed in a future version. Instead use the 'document' parameter. See https://github.com/elastic/elasticsearch-py/issues/1698 for more information\n",
      "  res = es.index(index=index, body=docu)\n"
     ]
    },
    {
     "data": {
      "text/plain": [
       "date                      2019-12-13T06:00:00.000\n",
       "heat_demand_hour_mean                 6771.389857\n",
       "heat_demand_hour_max                     7995.863\n",
       "heat_demand_hour_min                     5664.598\n",
       "heat_demand_hour_total               24343146.536\n",
       "reg_dt                        2020-06-28 15:17:07\n",
       "Name: 0, dtype: object"
      ]
     },
     "metadata": {},
     "output_type": "display_data"
    },
    {
     "name": "stdout",
     "output_type": "stream",
     "text": [
      "{'date': '2019-12-13T06:00:00.000', 'heat_demand_hour_mean': 6771.389857023644, 'heat_demand_hour_max': 7995.863, 'heat_demand_hour_min': 5664.598, 'heat_demand_hour_total': 24343146.536, 'reg_dt': '2020-06-28 15:17:07'}\n"
     ]
    },
    {
     "name": "stderr",
     "output_type": "stream",
     "text": [
      "C:\\Users\\Digitalship_PC\\AppData\\Local\\Temp\\ipykernel_23228\\587498895.py:9: DeprecationWarning: The 'body' parameter is deprecated and will be removed in a future version. Instead use the 'document' parameter. See https://github.com/elastic/elasticsearch-py/issues/1698 for more information\n",
      "  res = es.index(index=index, body=docu)\n"
     ]
    },
    {
     "data": {
      "text/plain": [
       "date                      2019-12-13T07:00:00.000\n",
       "heat_demand_hour_mean                 6974.677561\n",
       "heat_demand_hour_max                     8977.453\n",
       "heat_demand_hour_min                     5643.467\n",
       "heat_demand_hour_total               25080940.511\n",
       "reg_dt                        2020-06-28 15:17:07\n",
       "Name: 0, dtype: object"
      ]
     },
     "metadata": {},
     "output_type": "display_data"
    },
    {
     "name": "stdout",
     "output_type": "stream",
     "text": [
      "{'date': '2019-12-13T07:00:00.000', 'heat_demand_hour_mean': 6974.677561457187, 'heat_demand_hour_max': 8977.453, 'heat_demand_hour_min': 5643.467, 'heat_demand_hour_total': 25080940.511000045, 'reg_dt': '2020-06-28 15:17:07'}\n"
     ]
    },
    {
     "name": "stderr",
     "output_type": "stream",
     "text": [
      "C:\\Users\\Digitalship_PC\\AppData\\Local\\Temp\\ipykernel_23228\\587498895.py:9: DeprecationWarning: The 'body' parameter is deprecated and will be removed in a future version. Instead use the 'document' parameter. See https://github.com/elastic/elasticsearch-py/issues/1698 for more information\n",
      "  res = es.index(index=index, body=docu)\n"
     ]
    },
    {
     "data": {
      "text/plain": [
       "date                      2019-12-13T08:00:00.000\n",
       "heat_demand_hour_mean                 7592.724077\n",
       "heat_demand_hour_max                     9464.269\n",
       "heat_demand_hour_min                      6198.42\n",
       "heat_demand_hour_total               27295843.056\n",
       "reg_dt                        2020-06-28 15:17:07\n",
       "Name: 0, dtype: object"
      ]
     },
     "metadata": {},
     "output_type": "display_data"
    },
    {
     "name": "stdout",
     "output_type": "stream",
     "text": [
      "{'date': '2019-12-13T08:00:00.000', 'heat_demand_hour_mean': 7592.724076773308, 'heat_demand_hour_max': 9464.269, 'heat_demand_hour_min': 6198.42, 'heat_demand_hour_total': 27295843.056000043, 'reg_dt': '2020-06-28 15:17:07'}\n"
     ]
    },
    {
     "name": "stderr",
     "output_type": "stream",
     "text": [
      "C:\\Users\\Digitalship_PC\\AppData\\Local\\Temp\\ipykernel_23228\\587498895.py:9: DeprecationWarning: The 'body' parameter is deprecated and will be removed in a future version. Instead use the 'document' parameter. See https://github.com/elastic/elasticsearch-py/issues/1698 for more information\n",
      "  res = es.index(index=index, body=docu)\n"
     ]
    }
   ],
   "source": [
    "data_path = r\"C:\\Users\\Digitalship_PC\\pydev\\digitalship\\dcat\\input_data\\iot\"\n",
    "files = os.listdir(data_path)\n",
    "files.sort()\n",
    "# index =  \"LC_DCS_HEAT_DEMAND_STAT_HOUR11\".lower()\n",
    "# df = pd.DataFrame()\n",
    "for f in files[:50]:\n",
    "    temp = pd.read_csv(rf'{data_path}\\{f}')\n",
    "    temp['DATE'] = pd.to_datetime(temp['DATE'], format='%Y-%m-%d %H:%M:%S') - timedelta(hours=9)\n",
    "    temp['DATE'] = temp['DATE'].dt.strftime('%Y-%m-%dT%H:%M:%S.000')# + 'Z'    \n",
    "    temp.columns = temp.columns.str.lower()\n",
    "    col = ['date', 'heat_demand_hour_mean', 'heat_demand_hour_max', 'heat_demand_hour_min', 'heat_demand_hour_total', 'reg_dt']\n",
    "    temp = temp[col]\n",
    "    for idx, row in temp.iterrows():    \n",
    "        display(row)\n",
    "        p2w(row)\n",
    "    time.sleep(5)\n",
    "#     df = pd.concat([df, temp])\n",
    "    \n",
    "# df   "
   ]
  },
  {
   "cell_type": "code",
   "execution_count": null,
   "id": "c92e50be",
   "metadata": {},
   "outputs": [],
   "source": []
  },
  {
   "cell_type": "code",
   "execution_count": null,
   "id": "4f12d257",
   "metadata": {},
   "outputs": [],
   "source": []
  },
  {
   "cell_type": "code",
   "execution_count": null,
   "id": "36bbe0b9",
   "metadata": {},
   "outputs": [],
   "source": []
  }
 ],
 "metadata": {
  "kernelspec": {
   "display_name": "Python 3 (ipykernel)",
   "language": "python",
   "name": "python3"
  },
  "language_info": {
   "codemirror_mode": {
    "name": "ipython",
    "version": 3
   },
   "file_extension": ".py",
   "mimetype": "text/x-python",
   "name": "python",
   "nbconvert_exporter": "python",
   "pygments_lexer": "ipython3",
   "version": "3.11.3"
  }
 },
 "nbformat": 4,
 "nbformat_minor": 5
}
