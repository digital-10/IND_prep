{
 "cells": [
  {
   "cell_type": "code",
   "execution_count": 1,
   "id": "d90fa048",
   "metadata": {},
   "outputs": [],
   "source": [
    "from elasticsearch import helpers, Elasticsearch\n",
    "import csv\n",
    "import pandas as pd\n",
    "import time\n",
    "import datetime\n",
    "from datetime import timedelta\n",
    "import os"
   ]
  },
  {
   "cell_type": "code",
   "execution_count": 2,
   "id": "8e0ccd74",
   "metadata": {},
   "outputs": [],
   "source": [
    "def utc_time():  # @timestamp timezone을 utc로 설정하여 kibana로 index 생성시 참조\n",
    "    return datetime.datetime.utcnow().strftime('%Y-%m-%dT%H:%M:%S') + 'Z'\n",
    "\n",
    "def p2w(df):\n",
    "    df = df.copy()  \n",
    "    try:\n",
    "        docu = df.to_dict()\n",
    "        print(docu)\n",
    "        res = es.index(index=index, body=docu)\n",
    "    except Exception as e:\n",
    "            print(e)"
   ]
  },
  {
   "cell_type": "code",
   "execution_count": 3,
   "id": "522f7b86",
   "metadata": {
    "scrolled": true
   },
   "outputs": [],
   "source": [
    "ELASTIC_PASSWORD = \"elastic\"\n",
    "es = Elasticsearch(\n",
    "    hosts=\"http://192.168.10.17:9200\",    \n",
    "    basic_auth=(\"elastic\", ELASTIC_PASSWORD) )\n",
    "# )\n",
    "es.info()\n",
    "\n",
    "def delete_es(index):\n",
    "    es.indices.delete(index=index, ignore=[400, 404])\n",
    "    \n",
    "index = \"LC_DCS_HEAT_DEMAND_STAT_HOUR\".lower()"
   ]
  },
  {
   "cell_type": "code",
   "execution_count": 4,
   "id": "8f92c76a",
   "metadata": {},
   "outputs": [
    {
     "name": "stderr",
     "output_type": "stream",
     "text": [
      "C:\\Users\\Digitalship_PC\\AppData\\Local\\Temp\\ipykernel_22468\\824384968.py:9: DeprecationWarning: Passing transport options in the API method is deprecated. Use 'Elasticsearch.options()' instead.\n",
      "  es.indices.delete(index=index, ignore=[400, 404])\n"
     ]
    }
   ],
   "source": [
    "delete_es(index)"
   ]
  },
  {
   "cell_type": "code",
   "execution_count": 5,
   "id": "216d1a40",
   "metadata": {},
   "outputs": [],
   "source": [
    "if es.indices.exists(index=index):\n",
    "\tpass\n",
    "else:\n",
    "\tes.indices.create(index=index) #, body=mapping)"
   ]
  },
  {
   "cell_type": "code",
   "execution_count": 6,
   "id": "c45419db",
   "metadata": {},
   "outputs": [],
   "source": [
    "# files = od.listdir(r\"C:\\Users\\jh\\0py_dev\\digitalship\\dcat\\input_data\\iot2\")\n",
    "\n",
    "# df = pd.read_csv(r\"C:\\Users\\jh\\0py_dev\\digitalship\\dcat\\input_data\\iot2\\LC_DCS_HEAT_DEMAND_STAT_HOUR_202306070859.csv\")\n",
    "# # df['date'] = df['DT'] + ' ' + df['HT']\n",
    "# df['date'] = pd.to_datetime(df['date'], format='%Y-%m-%d %H:%M:%S')\n",
    "# df['date'] = df['date'].dt.strftime('%Y-%m-%dT%H:%M:%S.000') + 'Z'\n",
    "# # df = df.drop(columns=['DT','HT'])\n",
    "# df.columns = df.columns.str.lower()\n",
    "# col = ['date', 'heat_demand_hour_mean', 'heat_demand_hour_max', 'heat_demand_hour_min', 'heat_demand_hour_total', 'reg_dt']\n",
    "# df = df[col]\n",
    "# df[col[1]] = df[col[1]].fillna(0).astype(int)\n",
    "# df[col[2]] = df[col[2]].fillna(0).astype(int)\n",
    "# df[col[3]] = df[col[3]].fillna(0).astype(int)\n",
    "# df[col[4]] = df[col[4]].fillna(0).astype(int)\n",
    "# df"
   ]
  },
  {
   "cell_type": "code",
   "execution_count": 7,
   "id": "aebed6e6",
   "metadata": {},
   "outputs": [
    {
     "data": {
      "text/html": [
       "<div>\n",
       "<style scoped>\n",
       "    .dataframe tbody tr th:only-of-type {\n",
       "        vertical-align: middle;\n",
       "    }\n",
       "\n",
       "    .dataframe tbody tr th {\n",
       "        vertical-align: top;\n",
       "    }\n",
       "\n",
       "    .dataframe thead th {\n",
       "        text-align: right;\n",
       "    }\n",
       "</style>\n",
       "<table border=\"1\" class=\"dataframe\">\n",
       "  <thead>\n",
       "    <tr style=\"text-align: right;\">\n",
       "      <th></th>\n",
       "      <th>date</th>\n",
       "      <th>heat_demand_hour_mean</th>\n",
       "      <th>heat_demand_hour_max</th>\n",
       "      <th>heat_demand_hour_min</th>\n",
       "      <th>heat_demand_hour_total</th>\n",
       "      <th>reg_dt</th>\n",
       "    </tr>\n",
       "  </thead>\n",
       "  <tbody>\n",
       "    <tr>\n",
       "      <th>0</th>\n",
       "      <td>2019-12-12T16:00:00.000</td>\n",
       "      <td>10752.817110</td>\n",
       "      <td>12020.030</td>\n",
       "      <td>9133.879</td>\n",
       "      <td>3.865638e+07</td>\n",
       "      <td>2020-06-28 15:17:07</td>\n",
       "    </tr>\n",
       "    <tr>\n",
       "      <th>0</th>\n",
       "      <td>2019-12-12T17:00:00.000</td>\n",
       "      <td>9908.163398</td>\n",
       "      <td>11387.310</td>\n",
       "      <td>8084.865</td>\n",
       "      <td>3.562976e+07</td>\n",
       "      <td>2020-06-28 15:17:07</td>\n",
       "    </tr>\n",
       "    <tr>\n",
       "      <th>0</th>\n",
       "      <td>2019-12-12T18:00:00.000</td>\n",
       "      <td>9338.988207</td>\n",
       "      <td>11046.240</td>\n",
       "      <td>7559.211</td>\n",
       "      <td>3.358300e+07</td>\n",
       "      <td>2020-06-28 15:17:07</td>\n",
       "    </tr>\n",
       "    <tr>\n",
       "      <th>0</th>\n",
       "      <td>2019-12-12T19:00:00.000</td>\n",
       "      <td>8958.923677</td>\n",
       "      <td>10095.530</td>\n",
       "      <td>7335.011</td>\n",
       "      <td>3.220733e+07</td>\n",
       "      <td>2020-06-28 15:17:07</td>\n",
       "    </tr>\n",
       "    <tr>\n",
       "      <th>0</th>\n",
       "      <td>2019-12-12T20:00:00.000</td>\n",
       "      <td>8798.522806</td>\n",
       "      <td>10038.190</td>\n",
       "      <td>7325.010</td>\n",
       "      <td>3.163949e+07</td>\n",
       "      <td>2020-06-28 15:17:07</td>\n",
       "    </tr>\n",
       "    <tr>\n",
       "      <th>0</th>\n",
       "      <td>2019-12-12T21:00:00.000</td>\n",
       "      <td>8964.923741</td>\n",
       "      <td>10076.800</td>\n",
       "      <td>7421.648</td>\n",
       "      <td>3.222890e+07</td>\n",
       "      <td>2020-06-28 15:17:07</td>\n",
       "    </tr>\n",
       "    <tr>\n",
       "      <th>0</th>\n",
       "      <td>2019-12-12T22:00:00.000</td>\n",
       "      <td>10158.999054</td>\n",
       "      <td>11635.770</td>\n",
       "      <td>8587.940</td>\n",
       "      <td>3.653176e+07</td>\n",
       "      <td>2020-06-28 15:17:07</td>\n",
       "    </tr>\n",
       "    <tr>\n",
       "      <th>0</th>\n",
       "      <td>2019-12-12T23:00:00.000</td>\n",
       "      <td>12267.364244</td>\n",
       "      <td>13599.500</td>\n",
       "      <td>10249.470</td>\n",
       "      <td>4.411344e+07</td>\n",
       "      <td>2020-06-28 15:17:07</td>\n",
       "    </tr>\n",
       "    <tr>\n",
       "      <th>0</th>\n",
       "      <td>2019-12-13T00:00:00.000</td>\n",
       "      <td>13240.399775</td>\n",
       "      <td>16300.560</td>\n",
       "      <td>11249.620</td>\n",
       "      <td>4.759924e+07</td>\n",
       "      <td>2020-06-28 15:17:07</td>\n",
       "    </tr>\n",
       "    <tr>\n",
       "      <th>0</th>\n",
       "      <td>2019-12-13T01:00:00.000</td>\n",
       "      <td>11054.912972</td>\n",
       "      <td>13199.530</td>\n",
       "      <td>8927.706</td>\n",
       "      <td>3.975347e+07</td>\n",
       "      <td>2020-06-28 15:17:07</td>\n",
       "    </tr>\n",
       "    <tr>\n",
       "      <th>0</th>\n",
       "      <td>2019-12-13T02:00:00.000</td>\n",
       "      <td>8964.350003</td>\n",
       "      <td>10969.090</td>\n",
       "      <td>7079.227</td>\n",
       "      <td>3.223580e+07</td>\n",
       "      <td>2020-06-28 15:17:07</td>\n",
       "    </tr>\n",
       "    <tr>\n",
       "      <th>0</th>\n",
       "      <td>2019-12-13T03:00:00.000</td>\n",
       "      <td>7702.497671</td>\n",
       "      <td>9728.578</td>\n",
       "      <td>5812.857</td>\n",
       "      <td>2.769818e+07</td>\n",
       "      <td>2020-06-28 15:17:07</td>\n",
       "    </tr>\n",
       "    <tr>\n",
       "      <th>0</th>\n",
       "      <td>2019-12-13T04:00:00.000</td>\n",
       "      <td>7112.003790</td>\n",
       "      <td>8726.122</td>\n",
       "      <td>5900.655</td>\n",
       "      <td>2.556765e+07</td>\n",
       "      <td>2020-06-28 15:17:07</td>\n",
       "    </tr>\n",
       "    <tr>\n",
       "      <th>0</th>\n",
       "      <td>2019-12-13T05:00:00.000</td>\n",
       "      <td>6993.884993</td>\n",
       "      <td>8461.058</td>\n",
       "      <td>5469.579</td>\n",
       "      <td>2.515001e+07</td>\n",
       "      <td>2020-06-28 15:17:07</td>\n",
       "    </tr>\n",
       "    <tr>\n",
       "      <th>0</th>\n",
       "      <td>2019-12-13T06:00:00.000</td>\n",
       "      <td>6771.389857</td>\n",
       "      <td>7995.863</td>\n",
       "      <td>5664.598</td>\n",
       "      <td>2.434315e+07</td>\n",
       "      <td>2020-06-28 15:17:07</td>\n",
       "    </tr>\n",
       "    <tr>\n",
       "      <th>0</th>\n",
       "      <td>2019-12-13T07:00:00.000</td>\n",
       "      <td>6974.677561</td>\n",
       "      <td>8977.453</td>\n",
       "      <td>5643.467</td>\n",
       "      <td>2.508094e+07</td>\n",
       "      <td>2020-06-28 15:17:07</td>\n",
       "    </tr>\n",
       "    <tr>\n",
       "      <th>0</th>\n",
       "      <td>2019-12-13T08:00:00.000</td>\n",
       "      <td>7592.724077</td>\n",
       "      <td>9464.269</td>\n",
       "      <td>6198.420</td>\n",
       "      <td>2.729584e+07</td>\n",
       "      <td>2020-06-28 15:17:07</td>\n",
       "    </tr>\n",
       "    <tr>\n",
       "      <th>0</th>\n",
       "      <td>2019-12-13T09:00:00.000</td>\n",
       "      <td>8885.233624</td>\n",
       "      <td>10086.040</td>\n",
       "      <td>7363.419</td>\n",
       "      <td>3.195130e+07</td>\n",
       "      <td>2020-06-28 15:17:07</td>\n",
       "    </tr>\n",
       "    <tr>\n",
       "      <th>0</th>\n",
       "      <td>2019-12-13T10:00:00.000</td>\n",
       "      <td>9497.406068</td>\n",
       "      <td>10700.200</td>\n",
       "      <td>8132.429</td>\n",
       "      <td>3.415267e+07</td>\n",
       "      <td>2020-06-28 15:17:07</td>\n",
       "    </tr>\n",
       "    <tr>\n",
       "      <th>0</th>\n",
       "      <td>2019-12-13T11:00:00.000</td>\n",
       "      <td>10534.689178</td>\n",
       "      <td>11756.900</td>\n",
       "      <td>9293.675</td>\n",
       "      <td>3.787221e+07</td>\n",
       "      <td>2020-06-28 15:17:07</td>\n",
       "    </tr>\n",
       "    <tr>\n",
       "      <th>0</th>\n",
       "      <td>2019-12-13T12:00:00.000</td>\n",
       "      <td>11175.367486</td>\n",
       "      <td>12299.580</td>\n",
       "      <td>10048.620</td>\n",
       "      <td>4.018662e+07</td>\n",
       "      <td>2020-06-28 15:17:07</td>\n",
       "    </tr>\n",
       "    <tr>\n",
       "      <th>0</th>\n",
       "      <td>2019-12-13T13:00:00.000</td>\n",
       "      <td>11569.976348</td>\n",
       "      <td>12691.760</td>\n",
       "      <td>9861.440</td>\n",
       "      <td>4.159406e+07</td>\n",
       "      <td>2020-06-28 15:17:07</td>\n",
       "    </tr>\n",
       "    <tr>\n",
       "      <th>0</th>\n",
       "      <td>2019-12-13T14:00:00.000</td>\n",
       "      <td>11451.738857</td>\n",
       "      <td>12854.980</td>\n",
       "      <td>9048.491</td>\n",
       "      <td>4.118045e+07</td>\n",
       "      <td>2020-06-28 15:17:07</td>\n",
       "    </tr>\n",
       "    <tr>\n",
       "      <th>0</th>\n",
       "      <td>2019-12-13T15:00:00.000</td>\n",
       "      <td>10794.458910</td>\n",
       "      <td>14703.360</td>\n",
       "      <td>7948.664</td>\n",
       "      <td>3.881687e+07</td>\n",
       "      <td>2020-06-28 15:17:07</td>\n",
       "    </tr>\n",
       "    <tr>\n",
       "      <th>0</th>\n",
       "      <td>2019-12-13T16:00:00.000</td>\n",
       "      <td>10517.260127</td>\n",
       "      <td>11854.630</td>\n",
       "      <td>9085.929</td>\n",
       "      <td>3.780955e+07</td>\n",
       "      <td>2020-06-28 15:17:07</td>\n",
       "    </tr>\n",
       "    <tr>\n",
       "      <th>0</th>\n",
       "      <td>2019-12-13T17:00:00.000</td>\n",
       "      <td>9238.216393</td>\n",
       "      <td>11144.890</td>\n",
       "      <td>7531.114</td>\n",
       "      <td>3.322063e+07</td>\n",
       "      <td>2020-06-28 15:17:07</td>\n",
       "    </tr>\n",
       "    <tr>\n",
       "      <th>0</th>\n",
       "      <td>2019-12-13T18:00:00.000</td>\n",
       "      <td>8314.809529</td>\n",
       "      <td>9794.321</td>\n",
       "      <td>6746.606</td>\n",
       "      <td>2.990006e+07</td>\n",
       "      <td>2020-06-28 15:17:07</td>\n",
       "    </tr>\n",
       "    <tr>\n",
       "      <th>0</th>\n",
       "      <td>2019-12-13T19:00:00.000</td>\n",
       "      <td>7734.284173</td>\n",
       "      <td>9065.626</td>\n",
       "      <td>5951.912</td>\n",
       "      <td>2.781249e+07</td>\n",
       "      <td>2020-06-28 15:17:07</td>\n",
       "    </tr>\n",
       "    <tr>\n",
       "      <th>0</th>\n",
       "      <td>2019-12-13T20:00:00.000</td>\n",
       "      <td>7684.600663</td>\n",
       "      <td>8854.450</td>\n",
       "      <td>6335.021</td>\n",
       "      <td>2.762614e+07</td>\n",
       "      <td>2020-06-28 15:17:07</td>\n",
       "    </tr>\n",
       "    <tr>\n",
       "      <th>0</th>\n",
       "      <td>2019-12-13T21:00:00.000</td>\n",
       "      <td>7709.417148</td>\n",
       "      <td>8998.063</td>\n",
       "      <td>6447.042</td>\n",
       "      <td>2.772306e+07</td>\n",
       "      <td>2020-06-28 15:17:07</td>\n",
       "    </tr>\n",
       "    <tr>\n",
       "      <th>0</th>\n",
       "      <td>2019-12-13T22:00:00.000</td>\n",
       "      <td>8371.157724</td>\n",
       "      <td>9538.533</td>\n",
       "      <td>7151.544</td>\n",
       "      <td>3.010268e+07</td>\n",
       "      <td>2020-06-28 15:17:07</td>\n",
       "    </tr>\n",
       "    <tr>\n",
       "      <th>0</th>\n",
       "      <td>2019-12-13T23:00:00.000</td>\n",
       "      <td>8691.323825</td>\n",
       "      <td>9922.826</td>\n",
       "      <td>7318.371</td>\n",
       "      <td>3.124531e+07</td>\n",
       "      <td>2020-06-28 15:17:07</td>\n",
       "    </tr>\n",
       "    <tr>\n",
       "      <th>0</th>\n",
       "      <td>2019-12-14T00:00:00.000</td>\n",
       "      <td>9191.821910</td>\n",
       "      <td>11364.730</td>\n",
       "      <td>7495.088</td>\n",
       "      <td>3.305379e+07</td>\n",
       "      <td>2020-06-28 15:17:07</td>\n",
       "    </tr>\n",
       "    <tr>\n",
       "      <th>0</th>\n",
       "      <td>2019-12-14T01:00:00.000</td>\n",
       "      <td>8645.785999</td>\n",
       "      <td>10049.940</td>\n",
       "      <td>7028.110</td>\n",
       "      <td>3.109025e+07</td>\n",
       "      <td>2020-06-28 15:17:07</td>\n",
       "    </tr>\n",
       "    <tr>\n",
       "      <th>0</th>\n",
       "      <td>2019-12-14T02:00:00.000</td>\n",
       "      <td>7643.261098</td>\n",
       "      <td>9572.901</td>\n",
       "      <td>5605.372</td>\n",
       "      <td>2.747752e+07</td>\n",
       "      <td>2020-06-28 15:17:07</td>\n",
       "    </tr>\n",
       "    <tr>\n",
       "      <th>0</th>\n",
       "      <td>2019-12-14T03:00:00.000</td>\n",
       "      <td>7101.176225</td>\n",
       "      <td>8808.735</td>\n",
       "      <td>5443.842</td>\n",
       "      <td>2.553583e+07</td>\n",
       "      <td>2020-06-28 15:17:07</td>\n",
       "    </tr>\n",
       "    <tr>\n",
       "      <th>0</th>\n",
       "      <td>2019-12-14T04:00:00.000</td>\n",
       "      <td>6470.330044</td>\n",
       "      <td>8315.144</td>\n",
       "      <td>4699.967</td>\n",
       "      <td>2.326084e+07</td>\n",
       "      <td>2020-06-28 15:17:07</td>\n",
       "    </tr>\n",
       "    <tr>\n",
       "      <th>0</th>\n",
       "      <td>2019-12-14T05:00:00.000</td>\n",
       "      <td>5945.621112</td>\n",
       "      <td>7795.589</td>\n",
       "      <td>4529.259</td>\n",
       "      <td>2.138045e+07</td>\n",
       "      <td>2020-06-28 15:17:07</td>\n",
       "    </tr>\n",
       "    <tr>\n",
       "      <th>0</th>\n",
       "      <td>2019-12-14T06:00:00.000</td>\n",
       "      <td>5644.659787</td>\n",
       "      <td>7157.565</td>\n",
       "      <td>4278.854</td>\n",
       "      <td>2.029820e+07</td>\n",
       "      <td>2020-06-28 15:17:07</td>\n",
       "    </tr>\n",
       "    <tr>\n",
       "      <th>0</th>\n",
       "      <td>2019-12-14T07:00:00.000</td>\n",
       "      <td>5875.525604</td>\n",
       "      <td>7518.049</td>\n",
       "      <td>4390.480</td>\n",
       "      <td>2.112251e+07</td>\n",
       "      <td>2020-06-28 15:17:07</td>\n",
       "    </tr>\n",
       "    <tr>\n",
       "      <th>0</th>\n",
       "      <td>2019-12-14T08:00:00.000</td>\n",
       "      <td>6131.018942</td>\n",
       "      <td>8475.215</td>\n",
       "      <td>4507.430</td>\n",
       "      <td>2.204714e+07</td>\n",
       "      <td>2020-06-28 15:17:07</td>\n",
       "    </tr>\n",
       "    <tr>\n",
       "      <th>0</th>\n",
       "      <td>2019-12-14T09:00:00.000</td>\n",
       "      <td>7889.467197</td>\n",
       "      <td>9684.422</td>\n",
       "      <td>5592.923</td>\n",
       "      <td>2.836263e+07</td>\n",
       "      <td>2020-06-28 15:17:07</td>\n",
       "    </tr>\n",
       "    <tr>\n",
       "      <th>0</th>\n",
       "      <td>2019-12-14T10:00:00.000</td>\n",
       "      <td>8941.655665</td>\n",
       "      <td>10280.780</td>\n",
       "      <td>7204.642</td>\n",
       "      <td>3.215419e+07</td>\n",
       "      <td>2020-06-28 15:17:07</td>\n",
       "    </tr>\n",
       "    <tr>\n",
       "      <th>0</th>\n",
       "      <td>2019-12-14T11:00:00.000</td>\n",
       "      <td>9471.642051</td>\n",
       "      <td>10808.080</td>\n",
       "      <td>8182.884</td>\n",
       "      <td>3.406002e+07</td>\n",
       "      <td>2020-06-28 15:17:07</td>\n",
       "    </tr>\n",
       "    <tr>\n",
       "      <th>0</th>\n",
       "      <td>2019-12-14T12:00:00.000</td>\n",
       "      <td>9965.342116</td>\n",
       "      <td>11240.560</td>\n",
       "      <td>8231.340</td>\n",
       "      <td>3.582540e+07</td>\n",
       "      <td>2020-06-28 15:17:07</td>\n",
       "    </tr>\n",
       "    <tr>\n",
       "      <th>0</th>\n",
       "      <td>2019-12-14T13:00:00.000</td>\n",
       "      <td>10095.192412</td>\n",
       "      <td>11280.120</td>\n",
       "      <td>8435.735</td>\n",
       "      <td>3.630231e+07</td>\n",
       "      <td>2020-06-28 15:17:07</td>\n",
       "    </tr>\n",
       "    <tr>\n",
       "      <th>0</th>\n",
       "      <td>2019-12-14T14:00:00.000</td>\n",
       "      <td>10121.203292</td>\n",
       "      <td>11422.870</td>\n",
       "      <td>8562.419</td>\n",
       "      <td>3.638573e+07</td>\n",
       "      <td>2020-06-28 15:17:07</td>\n",
       "    </tr>\n",
       "    <tr>\n",
       "      <th>0</th>\n",
       "      <td>2019-12-14T15:00:00.000</td>\n",
       "      <td>9462.399413</td>\n",
       "      <td>11289.140</td>\n",
       "      <td>7764.064</td>\n",
       "      <td>3.402679e+07</td>\n",
       "      <td>2020-06-28 15:17:07</td>\n",
       "    </tr>\n",
       "    <tr>\n",
       "      <th>0</th>\n",
       "      <td>2019-12-14T16:00:00.000</td>\n",
       "      <td>9557.130599</td>\n",
       "      <td>10696.080</td>\n",
       "      <td>8191.823</td>\n",
       "      <td>3.435788e+07</td>\n",
       "      <td>2020-06-28 15:17:07</td>\n",
       "    </tr>\n",
       "    <tr>\n",
       "      <th>0</th>\n",
       "      <td>2019-12-14T17:00:00.000</td>\n",
       "      <td>8984.133491</td>\n",
       "      <td>10339.520</td>\n",
       "      <td>7541.569</td>\n",
       "      <td>3.230694e+07</td>\n",
       "      <td>2020-06-28 15:17:07</td>\n",
       "    </tr>\n",
       "  </tbody>\n",
       "</table>\n",
       "</div>"
      ],
      "text/plain": [
       "                      date  heat_demand_hour_mean  heat_demand_hour_max  \\\n",
       "0  2019-12-12T16:00:00.000           10752.817110             12020.030   \n",
       "0  2019-12-12T17:00:00.000            9908.163398             11387.310   \n",
       "0  2019-12-12T18:00:00.000            9338.988207             11046.240   \n",
       "0  2019-12-12T19:00:00.000            8958.923677             10095.530   \n",
       "0  2019-12-12T20:00:00.000            8798.522806             10038.190   \n",
       "0  2019-12-12T21:00:00.000            8964.923741             10076.800   \n",
       "0  2019-12-12T22:00:00.000           10158.999054             11635.770   \n",
       "0  2019-12-12T23:00:00.000           12267.364244             13599.500   \n",
       "0  2019-12-13T00:00:00.000           13240.399775             16300.560   \n",
       "0  2019-12-13T01:00:00.000           11054.912972             13199.530   \n",
       "0  2019-12-13T02:00:00.000            8964.350003             10969.090   \n",
       "0  2019-12-13T03:00:00.000            7702.497671              9728.578   \n",
       "0  2019-12-13T04:00:00.000            7112.003790              8726.122   \n",
       "0  2019-12-13T05:00:00.000            6993.884993              8461.058   \n",
       "0  2019-12-13T06:00:00.000            6771.389857              7995.863   \n",
       "0  2019-12-13T07:00:00.000            6974.677561              8977.453   \n",
       "0  2019-12-13T08:00:00.000            7592.724077              9464.269   \n",
       "0  2019-12-13T09:00:00.000            8885.233624             10086.040   \n",
       "0  2019-12-13T10:00:00.000            9497.406068             10700.200   \n",
       "0  2019-12-13T11:00:00.000           10534.689178             11756.900   \n",
       "0  2019-12-13T12:00:00.000           11175.367486             12299.580   \n",
       "0  2019-12-13T13:00:00.000           11569.976348             12691.760   \n",
       "0  2019-12-13T14:00:00.000           11451.738857             12854.980   \n",
       "0  2019-12-13T15:00:00.000           10794.458910             14703.360   \n",
       "0  2019-12-13T16:00:00.000           10517.260127             11854.630   \n",
       "0  2019-12-13T17:00:00.000            9238.216393             11144.890   \n",
       "0  2019-12-13T18:00:00.000            8314.809529              9794.321   \n",
       "0  2019-12-13T19:00:00.000            7734.284173              9065.626   \n",
       "0  2019-12-13T20:00:00.000            7684.600663              8854.450   \n",
       "0  2019-12-13T21:00:00.000            7709.417148              8998.063   \n",
       "0  2019-12-13T22:00:00.000            8371.157724              9538.533   \n",
       "0  2019-12-13T23:00:00.000            8691.323825              9922.826   \n",
       "0  2019-12-14T00:00:00.000            9191.821910             11364.730   \n",
       "0  2019-12-14T01:00:00.000            8645.785999             10049.940   \n",
       "0  2019-12-14T02:00:00.000            7643.261098              9572.901   \n",
       "0  2019-12-14T03:00:00.000            7101.176225              8808.735   \n",
       "0  2019-12-14T04:00:00.000            6470.330044              8315.144   \n",
       "0  2019-12-14T05:00:00.000            5945.621112              7795.589   \n",
       "0  2019-12-14T06:00:00.000            5644.659787              7157.565   \n",
       "0  2019-12-14T07:00:00.000            5875.525604              7518.049   \n",
       "0  2019-12-14T08:00:00.000            6131.018942              8475.215   \n",
       "0  2019-12-14T09:00:00.000            7889.467197              9684.422   \n",
       "0  2019-12-14T10:00:00.000            8941.655665             10280.780   \n",
       "0  2019-12-14T11:00:00.000            9471.642051             10808.080   \n",
       "0  2019-12-14T12:00:00.000            9965.342116             11240.560   \n",
       "0  2019-12-14T13:00:00.000           10095.192412             11280.120   \n",
       "0  2019-12-14T14:00:00.000           10121.203292             11422.870   \n",
       "0  2019-12-14T15:00:00.000            9462.399413             11289.140   \n",
       "0  2019-12-14T16:00:00.000            9557.130599             10696.080   \n",
       "0  2019-12-14T17:00:00.000            8984.133491             10339.520   \n",
       "\n",
       "   heat_demand_hour_min  heat_demand_hour_total               reg_dt  \n",
       "0              9133.879            3.865638e+07  2020-06-28 15:17:07  \n",
       "0              8084.865            3.562976e+07  2020-06-28 15:17:07  \n",
       "0              7559.211            3.358300e+07  2020-06-28 15:17:07  \n",
       "0              7335.011            3.220733e+07  2020-06-28 15:17:07  \n",
       "0              7325.010            3.163949e+07  2020-06-28 15:17:07  \n",
       "0              7421.648            3.222890e+07  2020-06-28 15:17:07  \n",
       "0              8587.940            3.653176e+07  2020-06-28 15:17:07  \n",
       "0             10249.470            4.411344e+07  2020-06-28 15:17:07  \n",
       "0             11249.620            4.759924e+07  2020-06-28 15:17:07  \n",
       "0              8927.706            3.975347e+07  2020-06-28 15:17:07  \n",
       "0              7079.227            3.223580e+07  2020-06-28 15:17:07  \n",
       "0              5812.857            2.769818e+07  2020-06-28 15:17:07  \n",
       "0              5900.655            2.556765e+07  2020-06-28 15:17:07  \n",
       "0              5469.579            2.515001e+07  2020-06-28 15:17:07  \n",
       "0              5664.598            2.434315e+07  2020-06-28 15:17:07  \n",
       "0              5643.467            2.508094e+07  2020-06-28 15:17:07  \n",
       "0              6198.420            2.729584e+07  2020-06-28 15:17:07  \n",
       "0              7363.419            3.195130e+07  2020-06-28 15:17:07  \n",
       "0              8132.429            3.415267e+07  2020-06-28 15:17:07  \n",
       "0              9293.675            3.787221e+07  2020-06-28 15:17:07  \n",
       "0             10048.620            4.018662e+07  2020-06-28 15:17:07  \n",
       "0              9861.440            4.159406e+07  2020-06-28 15:17:07  \n",
       "0              9048.491            4.118045e+07  2020-06-28 15:17:07  \n",
       "0              7948.664            3.881687e+07  2020-06-28 15:17:07  \n",
       "0              9085.929            3.780955e+07  2020-06-28 15:17:07  \n",
       "0              7531.114            3.322063e+07  2020-06-28 15:17:07  \n",
       "0              6746.606            2.990006e+07  2020-06-28 15:17:07  \n",
       "0              5951.912            2.781249e+07  2020-06-28 15:17:07  \n",
       "0              6335.021            2.762614e+07  2020-06-28 15:17:07  \n",
       "0              6447.042            2.772306e+07  2020-06-28 15:17:07  \n",
       "0              7151.544            3.010268e+07  2020-06-28 15:17:07  \n",
       "0              7318.371            3.124531e+07  2020-06-28 15:17:07  \n",
       "0              7495.088            3.305379e+07  2020-06-28 15:17:07  \n",
       "0              7028.110            3.109025e+07  2020-06-28 15:17:07  \n",
       "0              5605.372            2.747752e+07  2020-06-28 15:17:07  \n",
       "0              5443.842            2.553583e+07  2020-06-28 15:17:07  \n",
       "0              4699.967            2.326084e+07  2020-06-28 15:17:07  \n",
       "0              4529.259            2.138045e+07  2020-06-28 15:17:07  \n",
       "0              4278.854            2.029820e+07  2020-06-28 15:17:07  \n",
       "0              4390.480            2.112251e+07  2020-06-28 15:17:07  \n",
       "0              4507.430            2.204714e+07  2020-06-28 15:17:07  \n",
       "0              5592.923            2.836263e+07  2020-06-28 15:17:07  \n",
       "0              7204.642            3.215419e+07  2020-06-28 15:17:07  \n",
       "0              8182.884            3.406002e+07  2020-06-28 15:17:07  \n",
       "0              8231.340            3.582540e+07  2020-06-28 15:17:07  \n",
       "0              8435.735            3.630231e+07  2020-06-28 15:17:07  \n",
       "0              8562.419            3.638573e+07  2020-06-28 15:17:07  \n",
       "0              7764.064            3.402679e+07  2020-06-28 15:17:07  \n",
       "0              8191.823            3.435788e+07  2020-06-28 15:17:07  \n",
       "0              7541.569            3.230694e+07  2020-06-28 15:17:07  "
      ]
     },
     "execution_count": 7,
     "metadata": {},
     "output_type": "execute_result"
    }
   ],
   "source": [
    "data_path = r\"C:\\Users\\Digitalship_PC\\pydev\\digitalship\\dcat\\input_data\\iot\"\n",
    "files = os.listdir(data_path)\n",
    "files.sort()\n",
    "df = pd.DataFrame()\n",
    "for f in files[0:50]:\n",
    "    temp = pd.read_csv(rf'{data_path}\\{f}')\n",
    "    temp['DATE'] = pd.to_datetime(temp['DATE'], format='%Y-%m-%d %H:%M:%S') - timedelta(hours=9)\n",
    "    temp['DATE'] = temp['DATE'].dt.strftime('%Y-%m-%dT%H:%M:%S.000')# + 'Z'    \n",
    "    temp.columns = temp.columns.str.lower()\n",
    "    col = ['date', 'heat_demand_hour_mean', 'heat_demand_hour_max', 'heat_demand_hour_min', 'heat_demand_hour_total', 'reg_dt']\n",
    "    temp = temp[col]\n",
    "    df = pd.concat([df, temp])\n",
    "    \n",
    "df                 "
   ]
  },
  {
   "cell_type": "code",
   "execution_count": null,
   "id": "ccc888ef",
   "metadata": {
    "scrolled": false
   },
   "outputs": [
    {
     "data": {
      "text/plain": [
       "date                      2019-12-12T16:00:00.000\n",
       "heat_demand_hour_mean                 10752.81711\n",
       "heat_demand_hour_max                     12020.03\n",
       "heat_demand_hour_min                     9133.879\n",
       "heat_demand_hour_total               38656377.512\n",
       "reg_dt                        2020-06-28 15:17:07\n",
       "Name: 0, dtype: object"
      ]
     },
     "metadata": {},
     "output_type": "display_data"
    },
    {
     "name": "stdout",
     "output_type": "stream",
     "text": [
      "{'date': '2019-12-12T16:00:00.000', 'heat_demand_hour_mean': 10752.817110431157, 'heat_demand_hour_max': 12020.03, 'heat_demand_hour_min': 9133.879, 'heat_demand_hour_total': 38656377.51200001, 'reg_dt': '2020-06-28 15:17:07'}\n"
     ]
    },
    {
     "name": "stderr",
     "output_type": "stream",
     "text": [
      "C:\\Users\\Digitalship_PC\\AppData\\Local\\Temp\\ipykernel_22468\\587498895.py:9: DeprecationWarning: The 'body' parameter is deprecated and will be removed in a future version. Instead use the 'document' parameter. See https://github.com/elastic/elasticsearch-py/issues/1698 for more information\n",
      "  res = es.index(index=index, body=docu)\n"
     ]
    },
    {
     "data": {
      "text/plain": [
       "date                      2019-12-12T17:00:00.000\n",
       "heat_demand_hour_mean                 9908.163398\n",
       "heat_demand_hour_max                     11387.31\n",
       "heat_demand_hour_min                     8084.865\n",
       "heat_demand_hour_total               35629755.578\n",
       "reg_dt                        2020-06-28 15:17:07\n",
       "Name: 0, dtype: object"
      ]
     },
     "metadata": {},
     "output_type": "display_data"
    },
    {
     "name": "stdout",
     "output_type": "stream",
     "text": [
      "{'date': '2019-12-12T17:00:00.000', 'heat_demand_hour_mean': 9908.16339766406, 'heat_demand_hour_max': 11387.31, 'heat_demand_hour_min': 8084.865, 'heat_demand_hour_total': 35629755.57799996, 'reg_dt': '2020-06-28 15:17:07'}\n"
     ]
    },
    {
     "name": "stderr",
     "output_type": "stream",
     "text": [
      "C:\\Users\\Digitalship_PC\\AppData\\Local\\Temp\\ipykernel_22468\\587498895.py:9: DeprecationWarning: The 'body' parameter is deprecated and will be removed in a future version. Instead use the 'document' parameter. See https://github.com/elastic/elasticsearch-py/issues/1698 for more information\n",
      "  res = es.index(index=index, body=docu)\n"
     ]
    },
    {
     "data": {
      "text/plain": [
       "date                      2019-12-12T18:00:00.000\n",
       "heat_demand_hour_mean                 9338.988207\n",
       "heat_demand_hour_max                     11046.24\n",
       "heat_demand_hour_min                     7559.211\n",
       "heat_demand_hour_total               33583001.592\n",
       "reg_dt                        2020-06-28 15:17:07\n",
       "Name: 0, dtype: object"
      ]
     },
     "metadata": {},
     "output_type": "display_data"
    },
    {
     "name": "stdout",
     "output_type": "stream",
     "text": [
      "{'date': '2019-12-12T18:00:00.000', 'heat_demand_hour_mean': 9338.988206896558, 'heat_demand_hour_max': 11046.24, 'heat_demand_hour_min': 7559.211, 'heat_demand_hour_total': 33583001.59200002, 'reg_dt': '2020-06-28 15:17:07'}\n"
     ]
    },
    {
     "name": "stderr",
     "output_type": "stream",
     "text": [
      "C:\\Users\\Digitalship_PC\\AppData\\Local\\Temp\\ipykernel_22468\\587498895.py:9: DeprecationWarning: The 'body' parameter is deprecated and will be removed in a future version. Instead use the 'document' parameter. See https://github.com/elastic/elasticsearch-py/issues/1698 for more information\n",
      "  res = es.index(index=index, body=docu)\n"
     ]
    },
    {
     "data": {
      "text/plain": [
       "date                      2019-12-12T19:00:00.000\n",
       "heat_demand_hour_mean                 8958.923677\n",
       "heat_demand_hour_max                     10095.53\n",
       "heat_demand_hour_min                     7335.011\n",
       "heat_demand_hour_total                32207330.62\n",
       "reg_dt                        2020-06-28 15:17:07\n",
       "Name: 0, dtype: object"
      ]
     },
     "metadata": {},
     "output_type": "display_data"
    },
    {
     "name": "stdout",
     "output_type": "stream",
     "text": [
      "{'date': '2019-12-12T19:00:00.000', 'heat_demand_hour_mean': 8958.92367732964, 'heat_demand_hour_max': 10095.53, 'heat_demand_hour_min': 7335.011, 'heat_demand_hour_total': 32207330.620000053, 'reg_dt': '2020-06-28 15:17:07'}\n"
     ]
    },
    {
     "name": "stderr",
     "output_type": "stream",
     "text": [
      "C:\\Users\\Digitalship_PC\\AppData\\Local\\Temp\\ipykernel_22468\\587498895.py:9: DeprecationWarning: The 'body' parameter is deprecated and will be removed in a future version. Instead use the 'document' parameter. See https://github.com/elastic/elasticsearch-py/issues/1698 for more information\n",
      "  res = es.index(index=index, body=docu)\n"
     ]
    },
    {
     "data": {
      "text/plain": [
       "date                      2019-12-12T20:00:00.000\n",
       "heat_demand_hour_mean                 8798.522806\n",
       "heat_demand_hour_max                     10038.19\n",
       "heat_demand_hour_min                      7325.01\n",
       "heat_demand_hour_total               31639488.009\n",
       "reg_dt                        2020-06-28 15:17:07\n",
       "Name: 0, dtype: object"
      ]
     },
     "metadata": {},
     "output_type": "display_data"
    },
    {
     "name": "stdout",
     "output_type": "stream",
     "text": [
      "{'date': '2019-12-12T20:00:00.000', 'heat_demand_hour_mean': 8798.52280561732, 'heat_demand_hour_max': 10038.19, 'heat_demand_hour_min': 7325.01, 'heat_demand_hour_total': 31639488.00899988, 'reg_dt': '2020-06-28 15:17:07'}\n"
     ]
    },
    {
     "name": "stderr",
     "output_type": "stream",
     "text": [
      "C:\\Users\\Digitalship_PC\\AppData\\Local\\Temp\\ipykernel_22468\\587498895.py:9: DeprecationWarning: The 'body' parameter is deprecated and will be removed in a future version. Instead use the 'document' parameter. See https://github.com/elastic/elasticsearch-py/issues/1698 for more information\n",
      "  res = es.index(index=index, body=docu)\n"
     ]
    },
    {
     "data": {
      "text/plain": [
       "date                      2019-12-12T21:00:00.000\n",
       "heat_demand_hour_mean                 8964.923741\n",
       "heat_demand_hour_max                      10076.8\n",
       "heat_demand_hour_min                     7421.648\n",
       "heat_demand_hour_total                32228900.85\n",
       "reg_dt                        2020-06-28 15:17:07\n",
       "Name: 0, dtype: object"
      ]
     },
     "metadata": {},
     "output_type": "display_data"
    },
    {
     "name": "stdout",
     "output_type": "stream",
     "text": [
      "{'date': '2019-12-12T21:00:00.000', 'heat_demand_hour_mean': 8964.92374130737, 'heat_demand_hour_max': 10076.8, 'heat_demand_hour_min': 7421.648, 'heat_demand_hour_total': 32228900.85, 'reg_dt': '2020-06-28 15:17:07'}\n"
     ]
    },
    {
     "name": "stderr",
     "output_type": "stream",
     "text": [
      "C:\\Users\\Digitalship_PC\\AppData\\Local\\Temp\\ipykernel_22468\\587498895.py:9: DeprecationWarning: The 'body' parameter is deprecated and will be removed in a future version. Instead use the 'document' parameter. See https://github.com/elastic/elasticsearch-py/issues/1698 for more information\n",
      "  res = es.index(index=index, body=docu)\n"
     ]
    },
    {
     "data": {
      "text/plain": [
       "date                      2019-12-12T22:00:00.000\n",
       "heat_demand_hour_mean                10158.999054\n",
       "heat_demand_hour_max                     11635.77\n",
       "heat_demand_hour_min                      8587.94\n",
       "heat_demand_hour_total               36531760.598\n",
       "reg_dt                        2020-06-28 15:17:07\n",
       "Name: 0, dtype: object"
      ]
     },
     "metadata": {},
     "output_type": "display_data"
    },
    {
     "name": "stdout",
     "output_type": "stream",
     "text": [
      "{'date': '2019-12-12T22:00:00.000', 'heat_demand_hour_mean': 10158.999053948824, 'heat_demand_hour_max': 11635.77, 'heat_demand_hour_min': 8587.94, 'heat_demand_hour_total': 36531760.59799997, 'reg_dt': '2020-06-28 15:17:07'}\n"
     ]
    },
    {
     "name": "stderr",
     "output_type": "stream",
     "text": [
      "C:\\Users\\Digitalship_PC\\AppData\\Local\\Temp\\ipykernel_22468\\587498895.py:9: DeprecationWarning: The 'body' parameter is deprecated and will be removed in a future version. Instead use the 'document' parameter. See https://github.com/elastic/elasticsearch-py/issues/1698 for more information\n",
      "  res = es.index(index=index, body=docu)\n"
     ]
    },
    {
     "data": {
      "text/plain": [
       "date                      2019-12-12T23:00:00.000\n",
       "heat_demand_hour_mean                12267.364244\n",
       "heat_demand_hour_max                      13599.5\n",
       "heat_demand_hour_min                     10249.47\n",
       "heat_demand_hour_total                44113441.82\n",
       "reg_dt                        2020-06-28 15:17:07\n",
       "Name: 0, dtype: object"
      ]
     },
     "metadata": {},
     "output_type": "display_data"
    },
    {
     "name": "stdout",
     "output_type": "stream",
     "text": [
      "{'date': '2019-12-12T23:00:00.000', 'heat_demand_hour_mean': 12267.364243604006, 'heat_demand_hour_max': 13599.5, 'heat_demand_hour_min': 10249.47, 'heat_demand_hour_total': 44113441.82000001, 'reg_dt': '2020-06-28 15:17:07'}\n"
     ]
    },
    {
     "name": "stderr",
     "output_type": "stream",
     "text": [
      "C:\\Users\\Digitalship_PC\\AppData\\Local\\Temp\\ipykernel_22468\\587498895.py:9: DeprecationWarning: The 'body' parameter is deprecated and will be removed in a future version. Instead use the 'document' parameter. See https://github.com/elastic/elasticsearch-py/issues/1698 for more information\n",
      "  res = es.index(index=index, body=docu)\n"
     ]
    },
    {
     "data": {
      "text/plain": [
       "date                      2019-12-13T00:00:00.000\n",
       "heat_demand_hour_mean                13240.399775\n",
       "heat_demand_hour_max                     16300.56\n",
       "heat_demand_hour_min                     11249.62\n",
       "heat_demand_hour_total                47599237.19\n",
       "reg_dt                        2020-06-28 15:17:07\n",
       "Name: 0, dtype: object"
      ]
     },
     "metadata": {},
     "output_type": "display_data"
    },
    {
     "name": "stdout",
     "output_type": "stream",
     "text": [
      "{'date': '2019-12-13T00:00:00.000', 'heat_demand_hour_mean': 13240.399774687105, 'heat_demand_hour_max': 16300.56, 'heat_demand_hour_min': 11249.62, 'heat_demand_hour_total': 47599237.19000014, 'reg_dt': '2020-06-28 15:17:07'}\n"
     ]
    },
    {
     "name": "stderr",
     "output_type": "stream",
     "text": [
      "C:\\Users\\Digitalship_PC\\AppData\\Local\\Temp\\ipykernel_22468\\587498895.py:9: DeprecationWarning: The 'body' parameter is deprecated and will be removed in a future version. Instead use the 'document' parameter. See https://github.com/elastic/elasticsearch-py/issues/1698 for more information\n",
      "  res = es.index(index=index, body=docu)\n"
     ]
    },
    {
     "data": {
      "text/plain": [
       "date                      2019-12-13T01:00:00.000\n",
       "heat_demand_hour_mean                11054.912972\n",
       "heat_demand_hour_max                     13199.53\n",
       "heat_demand_hour_min                     8927.706\n",
       "heat_demand_hour_total               39753467.046\n",
       "reg_dt                        2020-06-28 15:17:07\n",
       "Name: 0, dtype: object"
      ]
     },
     "metadata": {},
     "output_type": "display_data"
    },
    {
     "name": "stdout",
     "output_type": "stream",
     "text": [
      "{'date': '2019-12-13T01:00:00.000', 'heat_demand_hour_mean': 11054.912971635158, 'heat_demand_hour_max': 13199.53, 'heat_demand_hour_min': 8927.706, 'heat_demand_hour_total': 39753467.046000026, 'reg_dt': '2020-06-28 15:17:07'}\n"
     ]
    },
    {
     "name": "stderr",
     "output_type": "stream",
     "text": [
      "C:\\Users\\Digitalship_PC\\AppData\\Local\\Temp\\ipykernel_22468\\587498895.py:9: DeprecationWarning: The 'body' parameter is deprecated and will be removed in a future version. Instead use the 'document' parameter. See https://github.com/elastic/elasticsearch-py/issues/1698 for more information\n",
      "  res = es.index(index=index, body=docu)\n"
     ]
    },
    {
     "data": {
      "text/plain": [
       "date                      2019-12-13T02:00:00.000\n",
       "heat_demand_hour_mean                 8964.350003\n",
       "heat_demand_hour_max                     10969.09\n",
       "heat_demand_hour_min                     7079.227\n",
       "heat_demand_hour_total               32235802.611\n",
       "reg_dt                        2020-06-28 15:17:07\n",
       "Name: 0, dtype: object"
      ]
     },
     "metadata": {},
     "output_type": "display_data"
    },
    {
     "name": "stdout",
     "output_type": "stream",
     "text": [
      "{'date': '2019-12-13T02:00:00.000', 'heat_demand_hour_mean': 8964.350003058935, 'heat_demand_hour_max': 10969.09, 'heat_demand_hour_min': 7079.227, 'heat_demand_hour_total': 32235802.610999927, 'reg_dt': '2020-06-28 15:17:07'}\n"
     ]
    },
    {
     "name": "stderr",
     "output_type": "stream",
     "text": [
      "C:\\Users\\Digitalship_PC\\AppData\\Local\\Temp\\ipykernel_22468\\587498895.py:9: DeprecationWarning: The 'body' parameter is deprecated and will be removed in a future version. Instead use the 'document' parameter. See https://github.com/elastic/elasticsearch-py/issues/1698 for more information\n",
      "  res = es.index(index=index, body=docu)\n"
     ]
    },
    {
     "data": {
      "text/plain": [
       "date                      2019-12-13T03:00:00.000\n",
       "heat_demand_hour_mean                 7702.497671\n",
       "heat_demand_hour_max                     9728.578\n",
       "heat_demand_hour_min                     5812.857\n",
       "heat_demand_hour_total               27698181.625\n",
       "reg_dt                        2020-06-28 15:17:07\n",
       "Name: 0, dtype: object"
      ]
     },
     "metadata": {},
     "output_type": "display_data"
    },
    {
     "name": "stdout",
     "output_type": "stream",
     "text": [
      "{'date': '2019-12-13T03:00:00.000', 'heat_demand_hour_mean': 7702.497671023357, 'heat_demand_hour_max': 9728.578, 'heat_demand_hour_min': 5812.857, 'heat_demand_hour_total': 27698181.625, 'reg_dt': '2020-06-28 15:17:07'}\n"
     ]
    },
    {
     "name": "stderr",
     "output_type": "stream",
     "text": [
      "C:\\Users\\Digitalship_PC\\AppData\\Local\\Temp\\ipykernel_22468\\587498895.py:9: DeprecationWarning: The 'body' parameter is deprecated and will be removed in a future version. Instead use the 'document' parameter. See https://github.com/elastic/elasticsearch-py/issues/1698 for more information\n",
      "  res = es.index(index=index, body=docu)\n"
     ]
    },
    {
     "data": {
      "text/plain": [
       "date                      2019-12-13T04:00:00.000\n",
       "heat_demand_hour_mean                  7112.00379\n",
       "heat_demand_hour_max                     8726.122\n",
       "heat_demand_hour_min                     5900.655\n",
       "heat_demand_hour_total               25567653.625\n",
       "reg_dt                        2020-06-28 15:17:07\n",
       "Name: 0, dtype: object"
      ]
     },
     "metadata": {},
     "output_type": "display_data"
    },
    {
     "name": "stdout",
     "output_type": "stream",
     "text": [
      "{'date': '2019-12-13T04:00:00.000', 'heat_demand_hour_mean': 7112.003789986107, 'heat_demand_hour_max': 8726.122, 'heat_demand_hour_min': 5900.655, 'heat_demand_hour_total': 25567653.625000056, 'reg_dt': '2020-06-28 15:17:07'}\n"
     ]
    },
    {
     "name": "stderr",
     "output_type": "stream",
     "text": [
      "C:\\Users\\Digitalship_PC\\AppData\\Local\\Temp\\ipykernel_22468\\587498895.py:9: DeprecationWarning: The 'body' parameter is deprecated and will be removed in a future version. Instead use the 'document' parameter. See https://github.com/elastic/elasticsearch-py/issues/1698 for more information\n",
      "  res = es.index(index=index, body=docu)\n"
     ]
    },
    {
     "data": {
      "text/plain": [
       "date                      2019-12-13T05:00:00.000\n",
       "heat_demand_hour_mean                 6993.884993\n",
       "heat_demand_hour_max                     8461.058\n",
       "heat_demand_hour_min                     5469.579\n",
       "heat_demand_hour_total               25150010.434\n",
       "reg_dt                        2020-06-28 15:17:07\n",
       "Name: 0, dtype: object"
      ]
     },
     "metadata": {},
     "output_type": "display_data"
    },
    {
     "name": "stdout",
     "output_type": "stream",
     "text": [
      "{'date': '2019-12-13T05:00:00.000', 'heat_demand_hour_mean': 6993.884992769743, 'heat_demand_hour_max': 8461.058, 'heat_demand_hour_min': 5469.579, 'heat_demand_hour_total': 25150010.434, 'reg_dt': '2020-06-28 15:17:07'}\n"
     ]
    },
    {
     "name": "stderr",
     "output_type": "stream",
     "text": [
      "C:\\Users\\Digitalship_PC\\AppData\\Local\\Temp\\ipykernel_22468\\587498895.py:9: DeprecationWarning: The 'body' parameter is deprecated and will be removed in a future version. Instead use the 'document' parameter. See https://github.com/elastic/elasticsearch-py/issues/1698 for more information\n",
      "  res = es.index(index=index, body=docu)\n"
     ]
    },
    {
     "data": {
      "text/plain": [
       "date                      2019-12-13T06:00:00.000\n",
       "heat_demand_hour_mean                 6771.389857\n",
       "heat_demand_hour_max                     7995.863\n",
       "heat_demand_hour_min                     5664.598\n",
       "heat_demand_hour_total               24343146.536\n",
       "reg_dt                        2020-06-28 15:17:07\n",
       "Name: 0, dtype: object"
      ]
     },
     "metadata": {},
     "output_type": "display_data"
    },
    {
     "name": "stdout",
     "output_type": "stream",
     "text": [
      "{'date': '2019-12-13T06:00:00.000', 'heat_demand_hour_mean': 6771.389857023644, 'heat_demand_hour_max': 7995.863, 'heat_demand_hour_min': 5664.598, 'heat_demand_hour_total': 24343146.536, 'reg_dt': '2020-06-28 15:17:07'}\n"
     ]
    },
    {
     "name": "stderr",
     "output_type": "stream",
     "text": [
      "C:\\Users\\Digitalship_PC\\AppData\\Local\\Temp\\ipykernel_22468\\587498895.py:9: DeprecationWarning: The 'body' parameter is deprecated and will be removed in a future version. Instead use the 'document' parameter. See https://github.com/elastic/elasticsearch-py/issues/1698 for more information\n",
      "  res = es.index(index=index, body=docu)\n"
     ]
    },
    {
     "data": {
      "text/plain": [
       "date                      2019-12-13T07:00:00.000\n",
       "heat_demand_hour_mean                 6974.677561\n",
       "heat_demand_hour_max                     8977.453\n",
       "heat_demand_hour_min                     5643.467\n",
       "heat_demand_hour_total               25080940.511\n",
       "reg_dt                        2020-06-28 15:17:07\n",
       "Name: 0, dtype: object"
      ]
     },
     "metadata": {},
     "output_type": "display_data"
    },
    {
     "name": "stdout",
     "output_type": "stream",
     "text": [
      "{'date': '2019-12-13T07:00:00.000', 'heat_demand_hour_mean': 6974.677561457187, 'heat_demand_hour_max': 8977.453, 'heat_demand_hour_min': 5643.467, 'heat_demand_hour_total': 25080940.511000045, 'reg_dt': '2020-06-28 15:17:07'}\n"
     ]
    },
    {
     "name": "stderr",
     "output_type": "stream",
     "text": [
      "C:\\Users\\Digitalship_PC\\AppData\\Local\\Temp\\ipykernel_22468\\587498895.py:9: DeprecationWarning: The 'body' parameter is deprecated and will be removed in a future version. Instead use the 'document' parameter. See https://github.com/elastic/elasticsearch-py/issues/1698 for more information\n",
      "  res = es.index(index=index, body=docu)\n"
     ]
    },
    {
     "data": {
      "text/plain": [
       "date                      2019-12-13T08:00:00.000\n",
       "heat_demand_hour_mean                 7592.724077\n",
       "heat_demand_hour_max                     9464.269\n",
       "heat_demand_hour_min                      6198.42\n",
       "heat_demand_hour_total               27295843.056\n",
       "reg_dt                        2020-06-28 15:17:07\n",
       "Name: 0, dtype: object"
      ]
     },
     "metadata": {},
     "output_type": "display_data"
    },
    {
     "name": "stdout",
     "output_type": "stream",
     "text": [
      "{'date': '2019-12-13T08:00:00.000', 'heat_demand_hour_mean': 7592.724076773308, 'heat_demand_hour_max': 9464.269, 'heat_demand_hour_min': 6198.42, 'heat_demand_hour_total': 27295843.056000043, 'reg_dt': '2020-06-28 15:17:07'}\n"
     ]
    },
    {
     "name": "stderr",
     "output_type": "stream",
     "text": [
      "C:\\Users\\Digitalship_PC\\AppData\\Local\\Temp\\ipykernel_22468\\587498895.py:9: DeprecationWarning: The 'body' parameter is deprecated and will be removed in a future version. Instead use the 'document' parameter. See https://github.com/elastic/elasticsearch-py/issues/1698 for more information\n",
      "  res = es.index(index=index, body=docu)\n"
     ]
    },
    {
     "data": {
      "text/plain": [
       "date                      2019-12-13T09:00:00.000\n",
       "heat_demand_hour_mean                 8885.233624\n",
       "heat_demand_hour_max                     10086.04\n",
       "heat_demand_hour_min                     7363.419\n",
       "heat_demand_hour_total               31951300.111\n",
       "reg_dt                        2020-06-28 15:17:07\n",
       "Name: 0, dtype: object"
      ]
     },
     "metadata": {},
     "output_type": "display_data"
    },
    {
     "name": "stdout",
     "output_type": "stream",
     "text": [
      "{'date': '2019-12-13T09:00:00.000', 'heat_demand_hour_mean': 8885.233623748603, 'heat_demand_hour_max': 10086.04, 'heat_demand_hour_min': 7363.419, 'heat_demand_hour_total': 31951300.11099997, 'reg_dt': '2020-06-28 15:17:07'}\n"
     ]
    },
    {
     "name": "stderr",
     "output_type": "stream",
     "text": [
      "C:\\Users\\Digitalship_PC\\AppData\\Local\\Temp\\ipykernel_22468\\587498895.py:9: DeprecationWarning: The 'body' parameter is deprecated and will be removed in a future version. Instead use the 'document' parameter. See https://github.com/elastic/elasticsearch-py/issues/1698 for more information\n",
      "  res = es.index(index=index, body=docu)\n"
     ]
    },
    {
     "data": {
      "text/plain": [
       "date                      2019-12-13T10:00:00.000\n",
       "heat_demand_hour_mean                 9497.406068\n",
       "heat_demand_hour_max                      10700.2\n",
       "heat_demand_hour_min                     8132.429\n",
       "heat_demand_hour_total                34152672.22\n",
       "reg_dt                        2020-06-28 15:17:07\n",
       "Name: 0, dtype: object"
      ]
     },
     "metadata": {},
     "output_type": "display_data"
    },
    {
     "name": "stdout",
     "output_type": "stream",
     "text": [
      "{'date': '2019-12-13T10:00:00.000', 'heat_demand_hour_mean': 9497.40606785315, 'heat_demand_hour_max': 10700.2, 'heat_demand_hour_min': 8132.429, 'heat_demand_hour_total': 34152672.219999924, 'reg_dt': '2020-06-28 15:17:07'}\n"
     ]
    },
    {
     "name": "stderr",
     "output_type": "stream",
     "text": [
      "C:\\Users\\Digitalship_PC\\AppData\\Local\\Temp\\ipykernel_22468\\587498895.py:9: DeprecationWarning: The 'body' parameter is deprecated and will be removed in a future version. Instead use the 'document' parameter. See https://github.com/elastic/elasticsearch-py/issues/1698 for more information\n",
      "  res = es.index(index=index, body=docu)\n"
     ]
    },
    {
     "data": {
      "text/plain": [
       "date                      2019-12-13T11:00:00.000\n",
       "heat_demand_hour_mean                10534.689178\n",
       "heat_demand_hour_max                      11756.9\n",
       "heat_demand_hour_min                     9293.675\n",
       "heat_demand_hour_total               37872207.594\n",
       "reg_dt                        2020-06-28 15:17:07\n",
       "Name: 0, dtype: object"
      ]
     },
     "metadata": {},
     "output_type": "display_data"
    }
   ],
   "source": [
    "data_path = r\"C:\\Users\\Digitalship_PC\\pydev\\digitalship\\dcat\\input_data\\iot\"\n",
    "files = os.listdir(data_path)\n",
    "files.sort()\n",
    "# index =  \"LC_DCS_HEAT_DEMAND_STAT_HOUR11\".lower()\n",
    "# df = pd.DataFrame()\n",
    "for f in files[:50]:\n",
    "    temp = pd.read_csv(rf'{data_path}\\{f}')\n",
    "    temp['DATE'] = pd.to_datetime(temp['DATE'], format='%Y-%m-%d %H:%M:%S') - timedelta(hours=9)\n",
    "    temp['DATE'] = temp['DATE'].dt.strftime('%Y-%m-%dT%H:%M:%S.000')# + 'Z'    \n",
    "    temp.columns = temp.columns.str.lower()\n",
    "    col = ['date', 'heat_demand_hour_mean', 'heat_demand_hour_max', 'heat_demand_hour_min', 'heat_demand_hour_total', 'reg_dt']\n",
    "    temp = temp[col]\n",
    "    for idx, row in temp.iterrows():    \n",
    "        display(row)\n",
    "        p2w(row)\n",
    "    time.sleep(5)\n",
    "#     df = pd.concat([df, temp])\n",
    "    \n",
    "# df   "
   ]
  },
  {
   "cell_type": "code",
   "execution_count": null,
   "id": "c92e50be",
   "metadata": {},
   "outputs": [],
   "source": []
  },
  {
   "cell_type": "code",
   "execution_count": null,
   "id": "4f12d257",
   "metadata": {},
   "outputs": [],
   "source": []
  },
  {
   "cell_type": "code",
   "execution_count": 12,
   "id": "b1c0b0eb",
   "metadata": {},
   "outputs": [
    {
     "name": "stderr",
     "output_type": "stream",
     "text": [
      "C:\\Users\\jh\\AppData\\Local\\Temp\\ipykernel_13800\\797047611.py:8: DeprecationWarning: The 'body' parameter is deprecated and will be removed in a future version. Instead use the 'document' parameter. See https://github.com/elastic/elasticsearch-py/issues/1698 for more information\n",
      "  res = es.index(index=index, body=docu)\n"
     ]
    }
   ],
   "source": [
    "try:\n",
    "    for idx, row in df.iterrows():\n",
    "#         if (idx >= 10) &(idx <= 200) :\n",
    "        if (idx <= 200) :\n",
    "#             docu = {'heat_demand_hour_total': round(row['heat_demand_hour_total'],3), '@timestamp': row['@timestamp']}  \n",
    "#             docu = {'heat_demand_hour_total': int(round(row['heat_demand_hour_total'],0)), 'timestamp': row['timestamp']}  \n",
    "            docu = row.to_dict()\n",
    "            res = es.index(index=index, body=docu)                  \n",
    "        #print(docu)\n",
    "#             print(res) \n",
    "except Exception as e:\n",
    "        print(e)"
   ]
  },
  {
   "cell_type": "code",
   "execution_count": null,
   "id": "36bbe0b9",
   "metadata": {},
   "outputs": [],
   "source": []
  }
 ],
 "metadata": {
  "kernelspec": {
   "display_name": "Python 3 (ipykernel)",
   "language": "python",
   "name": "python3"
  },
  "language_info": {
   "codemirror_mode": {
    "name": "ipython",
    "version": 3
   },
   "file_extension": ".py",
   "mimetype": "text/x-python",
   "name": "python",
   "nbconvert_exporter": "python",
   "pygments_lexer": "ipython3",
   "version": "3.11.3"
  }
 },
 "nbformat": 4,
 "nbformat_minor": 5
}
