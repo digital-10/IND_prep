{
 "cells": [
  {
   "cell_type": "code",
   "execution_count": 1,
   "id": "a764ae3c",
   "metadata": {},
   "outputs": [],
   "source": [
    "import pandas as pd\n",
    "import numpy as np"
   ]
  },
  {
   "cell_type": "code",
   "execution_count": 16,
   "id": "29d4808c",
   "metadata": {},
   "outputs": [],
   "source": [
    "df = pd.read_csv(r\"C:\\Users\\jh\\0py_dev\\digitalship\\data\\higgs\\higgs_ori.csv\")\n",
    "df = pd.read_csv(r\"C:\\Users\\jh\\0py_dev\\digitalship\\data\\metro\\MetroPT3(AirCompressor) _ori.csv\")"
   ]
  },
  {
   "cell_type": "code",
   "execution_count": 17,
   "id": "a34eeae2",
   "metadata": {},
   "outputs": [
    {
     "data": {
      "text/plain": [
       "0    1011676\n",
       "1      36899\n",
       "Name: y, dtype: int64"
      ]
     },
     "execution_count": 17,
     "metadata": {},
     "output_type": "execute_result"
    }
   ],
   "source": [
    "# df['Label'].value_counts(True)\n",
    "df['y'].value_counts()"
   ]
  },
  {
   "cell_type": "code",
   "execution_count": 4,
   "id": "20ac9a31",
   "metadata": {},
   "outputs": [
    {
     "data": {
      "text/plain": [
       "Index(['timestamp', 'TP2', 'TP3', 'H1', 'DV_pressure', 'Reservoirs',\n",
       "       'Oil_temperature', 'Motor_current', 'COMP', 'DV_eletric', 'Towers',\n",
       "       'MPG', 'LPS', 'Pressure_switch', 'Oil_level', 'Caudal_impulses', 'y'],\n",
       "      dtype='object')"
      ]
     },
     "execution_count": 4,
     "metadata": {},
     "output_type": "execute_result"
    }
   ],
   "source": [
    "df.columns"
   ]
  },
  {
   "cell_type": "code",
   "execution_count": 5,
   "id": "e643120f",
   "metadata": {},
   "outputs": [],
   "source": [
    "# from imblearn.over_sampling import SMOTE\n",
    "# X = df.drop(columns=['EventId', 'Label'])\n",
    "# y = df['Label']\n",
    "# oversample = SMOTE(sampling_strategy=0.85, random_state=0)\n",
    "# # oversample = SMOTE(random_state=0)\n",
    "# X, y = oversample.fit_resample(X, y)\n",
    "# df00 = pd.concat([X,y], 1)\n",
    "# df00['Label'].value_counts(True)\n",
    "\n",
    "# eventid = list(range(1, df00.shape[0]+1))\n",
    "# df00['EventId'] = eventid\n",
    "# df00 = df00[df.columns]\n",
    "# df00"
   ]
  },
  {
   "cell_type": "code",
   "execution_count": 6,
   "id": "0c52e32c",
   "metadata": {},
   "outputs": [
    {
     "name": "stderr",
     "output_type": "stream",
     "text": [
      "C:\\Users\\jh\\AppData\\Local\\Temp\\ipykernel_20752\\4146897801.py:7: FutureWarning: In a future version of pandas all arguments of concat except for the argument 'objs' will be keyword-only.\n",
      "  df00 = pd.concat([X,y], 1)\n"
     ]
    },
    {
     "data": {
      "text/plain": [
       "0    0.5\n",
       "1    0.5\n",
       "Name: y, dtype: float64"
      ]
     },
     "execution_count": 6,
     "metadata": {},
     "output_type": "execute_result"
    }
   ],
   "source": [
    "from imblearn.over_sampling import SMOTE\n",
    "X = df.drop(columns=['timestamp', 'y'])\n",
    "y = df['y']\n",
    "oversample = SMOTE(sampling_strategy=1, random_state=0)\n",
    "# oversample = SMOTE(random_state=0)\n",
    "X, y = oversample.fit_resample(X, y)\n",
    "df00 = pd.concat([X,y], 1)\n",
    "df00['y'].value_counts(True)"
   ]
  },
  {
   "cell_type": "code",
   "execution_count": 15,
   "id": "c1a098cc",
   "metadata": {},
   "outputs": [
    {
     "data": {
      "text/plain": [
       "0    1011676\n",
       "1    1011676\n",
       "Name: y, dtype: int64"
      ]
     },
     "execution_count": 15,
     "metadata": {},
     "output_type": "execute_result"
    }
   ],
   "source": [
    "df00['y'].value_counts()"
   ]
  },
  {
   "cell_type": "code",
   "execution_count": 18,
   "id": "8feb1657",
   "metadata": {},
   "outputs": [
    {
     "ename": "NameError",
     "evalue": "name 'resample' is not defined",
     "output_type": "error",
     "traceback": [
      "\u001b[1;31m---------------------------------------------------------------------------\u001b[0m",
      "\u001b[1;31mNameError\u001b[0m                                 Traceback (most recent call last)",
      "Input \u001b[1;32mIn [18]\u001b[0m, in \u001b[0;36m<cell line: 5>\u001b[1;34m()\u001b[0m\n\u001b[0;32m      2\u001b[0m df_minority \u001b[38;5;241m=\u001b[39m df\u001b[38;5;241m.\u001b[39mloc[df\u001b[38;5;241m.\u001b[39my \u001b[38;5;241m==\u001b[39m \u001b[38;5;241m1\u001b[39m]\u001b[38;5;241m.\u001b[39mcopy()\n\u001b[0;32m      4\u001b[0m \u001b[38;5;66;03m# Upsample minority class\u001b[39;00m\n\u001b[1;32m----> 5\u001b[0m df_minority_upsampled \u001b[38;5;241m=\u001b[39m \u001b[43mresample\u001b[49m(df_minority,\n\u001b[0;32m      6\u001b[0m                              replace\u001b[38;5;241m=\u001b[39m\u001b[38;5;28;01mTrue\u001b[39;00m,  \u001b[38;5;66;03m# sample with replacement\u001b[39;00m\n\u001b[0;32m      7\u001b[0m                              n_samples\u001b[38;5;241m=\u001b[39m\u001b[38;5;241m1011676\u001b[39m,  \u001b[38;5;66;03m# to match majority class\u001b[39;00m\n\u001b[0;32m      8\u001b[0m                              random_state\u001b[38;5;241m=\u001b[39m\u001b[38;5;241m0\u001b[39m)  \u001b[38;5;66;03m# reproducible results\u001b[39;00m\n\u001b[0;32m     10\u001b[0m \u001b[38;5;66;03m# Combine majority class with upsampled minority class\u001b[39;00m\n\u001b[0;32m     11\u001b[0m df_upsampled \u001b[38;5;241m=\u001b[39m pd\u001b[38;5;241m.\u001b[39mconcat([df_majority, df_minority_upsampled])\n",
      "\u001b[1;31mNameError\u001b[0m: name 'resample' is not defined"
     ]
    }
   ],
   "source": [
    "df_majority = df.loc[df.y == 0].copy()\n",
    "df_minority = df.loc[df.y == 1].copy()\n",
    "\n",
    "# Upsample minority class\n",
    "df_minority_upsampled = resample(df_minority,\n",
    "                             replace=True,  # sample with replacement\n",
    "                             n_samples=1011676,  # to match majority class\n",
    "                             random_state=0)  # reproducible results\n",
    "\n",
    "# Combine majority class with upsampled minority class\n",
    "df_upsampled = pd.concat([df_majority, df_minority_upsampled])"
   ]
  },
  {
   "cell_type": "code",
   "execution_count": null,
   "id": "ea559431",
   "metadata": {},
   "outputs": [],
   "source": []
  },
  {
   "cell_type": "code",
   "execution_count": 7,
   "id": "686dc2b5",
   "metadata": {},
   "outputs": [],
   "source": [
    "times = pd.date_range('2019-09-01', periods=df00.shape[0], freq='1min')\n",
    "cols = ['timestamp'] + list(df00.columns)\n",
    "df00['timestamp'] = times\n",
    "df00 = df00[cols]\n",
    "# df00"
   ]
  },
  {
   "cell_type": "code",
   "execution_count": 8,
   "id": "b55bcf36",
   "metadata": {},
   "outputs": [
    {
     "data": {
      "text/plain": [
       "Index(['timestamp', 'TP2', 'TP3', 'H1', 'DV_pressure', 'Reservoirs',\n",
       "       'Oil_temperature', 'Motor_current', 'COMP', 'DV_eletric', 'Towers',\n",
       "       'MPG', 'LPS', 'Pressure_switch', 'Oil_level', 'Caudal_impulses', 'y'],\n",
       "      dtype='object')"
      ]
     },
     "execution_count": 8,
     "metadata": {},
     "output_type": "execute_result"
    }
   ],
   "source": [
    "df00.columns"
   ]
  },
  {
   "cell_type": "code",
   "execution_count": 9,
   "id": "a70cb79c",
   "metadata": {},
   "outputs": [],
   "source": [
    "# ## 널 만들기\n",
    "# # cols1 = ['TP2', 'TP3', 'H1', 'Reservoirs', 'Oil_temperature', 'Motor_current']\n",
    "# cols1 = ['TP2', 'TP3', 'H1', 'DV_pressure', 'Reservoirs','Oil_temperature']\n",
    "# cols2 = ['Motor_current', 'COMP', 'DV_eletric']\n",
    "# cols3 = ['Towers','MPG', 'LPS', 'Pressure_switch', 'Oil_level']\n",
    "# df_copy = df00.copy()\n",
    "# for i, col in enumerate(cols1):  \n",
    "#     df_copy.loc[df_copy.sample(frac=0.35).index, col] = np.nan\n",
    "# for i, col in enumerate(cols2):  \n",
    "#     df_copy.loc[df_copy.sample(frac=0.5).index, col] = np.nan\n",
    "# for i, col in enumerate(cols3):  \n",
    "#     df_copy.loc[df_copy.sample(frac=0.8).index, col] = np.nan\n",
    "\n",
    "# y1_sample_index_list = list(df_copy[df_copy['y']==1].sample(frac=0.15).index)\n",
    "# y0_sample_index_list = list(df_copy[df_copy['y']==0].sample(frac=0.15).index)\n",
    "# df_copy.loc[y1_sample_index_list, 'y'] = 0\n",
    "# df_copy.loc[y0_sample_index_list, 'y'] = 1\n",
    "    \n",
    "# df_copy.to_csv(r'C:\\Users\\jh\\0py_dev\\digitalship\\data\\metro\\MetroPT3(AirCompressor).csv', index=False)"
   ]
  },
  {
   "cell_type": "code",
   "execution_count": 40,
   "id": "5b1710be",
   "metadata": {},
   "outputs": [
    {
     "data": {
      "text/plain": [
       "1    0.575\n",
       "0    0.425\n",
       "Name: y, dtype: float64"
      ]
     },
     "execution_count": 40,
     "metadata": {},
     "output_type": "execute_result"
    }
   ],
   "source": [
    "# cols1 = ['TP2', 'TP3', 'H1', 'DV_pressure', 'Reservoirs','Oil_temperature']\n",
    "# cols2 = ['Motor_current', 'COMP', 'DV_eletric']\n",
    "# cols3 = ['Towers','MPG', 'LPS', 'Pressure_switch', 'Oil_level']\n",
    "# df_copy = df00.copy()\n",
    "# for i, col in enumerate(cols1):  \n",
    "#     df_copy.loc[df_copy.sample(frac=0.35).index, col] = np.nan\n",
    "# for i, col in enumerate(cols2):  \n",
    "#     df_copy.loc[df_copy.sample(frac=0.5).index, col] = np.nan\n",
    "# for i, col in enumerate(cols3):  \n",
    "#     df_copy.loc[df_copy.sample(frac=0.8).index, col] = np.nan\n",
    "\n",
    "# y1_sample_index_list = list(df_copy[df_copy['y']==1].sample(frac=0.22).index)\n",
    "# y0_sample_index_list = list(df_copy[df_copy['y']==0].sample(frac=0.22).index)\n",
    "# df_copy.loc[y1_sample_index_list, 'y'] = 0\n",
    "# df_copy.loc[y0_sample_index_list, 'y'] = 1\n",
    "    \n",
    "# df_copy.to_csv(r'C:\\Users\\jh\\0py_dev\\digitalship\\data\\metro\\MetroPT3(AirCompressor).csv', index=False)\n",
    "\n",
    "cols1 = ['TP2', 'TP3', 'H1']\n",
    "cols2 = ['DV_pressure', 'Reservoirs','Oil_temperature']\n",
    "cols3 = ['Motor_current', 'COMP', 'DV_eletric']\n",
    "cols4 = ['Towers','MPG', 'LPS', 'Pressure_switch', 'Oil_level']\n",
    "df_copy = df00.copy()\n",
    "# for i, col in enumerate(cols1):  \n",
    "#     df_copy.loc[df_copy.sample(frac=0.9).index, col] = np.nan\n",
    "for i, col in enumerate(cols2):  \n",
    "    df_copy.loc[df_copy.sample(frac=0.6).index, col] = np.nan\n",
    "for i, col in enumerate(cols3):  \n",
    "    df_copy.loc[df_copy.sample(frac=0.6).index, col] = np.nan\n",
    "for i, col in enumerate(cols4):  \n",
    "    df_copy.loc[df_copy.sample(frac=0.65).index, col] = np.nan\n",
    "\n",
    "y1_sample_index_list = list(df_copy[df_copy['y']==1].sample(frac=0.1).index)\n",
    "y0_sample_index_list = list(df_copy[df_copy['y']==0].sample(frac=0.25).index)\n",
    "df_copy.loc[y1_sample_index_list, 'y'] = 0\n",
    "df_copy.loc[y0_sample_index_list, 'y'] = 1\n",
    "    \n",
    "df_copy.to_csv(r'C:\\Users\\jh\\0py_dev\\digitalship\\data\\metro\\MetroPT3(AirCompressor).csv', index=False)\n",
    "df_copy['y'].value_counts(True)"
   ]
  },
  {
   "cell_type": "code",
   "execution_count": 36,
   "id": "aa6a2719",
   "metadata": {},
   "outputs": [],
   "source": [
    "# from sklearn.datasets import make_classification\n",
    "# X, y = make_classification(n_samples=1000000, n_features=15, n_informative=5,\n",
    "#                            n_redundant=0, n_clusters_per_class=1, random_state=0)\n",
    "# dfx = pd.DataFrame(X)\n",
    "# dfy = pd.DataFrame(y, columns=['y'])"
   ]
  },
  {
   "cell_type": "code",
   "execution_count": 37,
   "id": "98258efa",
   "metadata": {},
   "outputs": [
    {
     "name": "stderr",
     "output_type": "stream",
     "text": [
      "C:\\Users\\jh\\AppData\\Local\\Temp\\ipykernel_20752\\83443920.py:1: FutureWarning: In a future version of pandas all arguments of concat except for the argument 'objs' will be keyword-only.\n",
      "  df = pd.concat([dfx, dfy], 1)\n"
     ]
    },
    {
     "data": {
      "text/html": [
       "<div>\n",
       "<style scoped>\n",
       "    .dataframe tbody tr th:only-of-type {\n",
       "        vertical-align: middle;\n",
       "    }\n",
       "\n",
       "    .dataframe tbody tr th {\n",
       "        vertical-align: top;\n",
       "    }\n",
       "\n",
       "    .dataframe thead th {\n",
       "        text-align: right;\n",
       "    }\n",
       "</style>\n",
       "<table border=\"1\" class=\"dataframe\">\n",
       "  <thead>\n",
       "    <tr style=\"text-align: right;\">\n",
       "      <th></th>\n",
       "      <th>0</th>\n",
       "      <th>1</th>\n",
       "      <th>2</th>\n",
       "      <th>3</th>\n",
       "      <th>4</th>\n",
       "      <th>5</th>\n",
       "      <th>6</th>\n",
       "      <th>7</th>\n",
       "      <th>8</th>\n",
       "      <th>9</th>\n",
       "      <th>10</th>\n",
       "      <th>11</th>\n",
       "      <th>12</th>\n",
       "      <th>13</th>\n",
       "      <th>14</th>\n",
       "      <th>y</th>\n",
       "    </tr>\n",
       "  </thead>\n",
       "  <tbody>\n",
       "    <tr>\n",
       "      <th>0</th>\n",
       "      <td>0.353411</td>\n",
       "      <td>-0.802131</td>\n",
       "      <td>-1.411918</td>\n",
       "      <td>0.504937</td>\n",
       "      <td>-0.066823</td>\n",
       "      <td>-2.383396</td>\n",
       "      <td>-0.175416</td>\n",
       "      <td>0.577633</td>\n",
       "      <td>2.324578</td>\n",
       "      <td>0.749826</td>\n",
       "      <td>-0.860145</td>\n",
       "      <td>6.601018</td>\n",
       "      <td>2.721100</td>\n",
       "      <td>0.021843</td>\n",
       "      <td>0.058117</td>\n",
       "      <td>0</td>\n",
       "    </tr>\n",
       "    <tr>\n",
       "      <th>1</th>\n",
       "      <td>0.669044</td>\n",
       "      <td>0.601264</td>\n",
       "      <td>-0.301888</td>\n",
       "      <td>-1.749926</td>\n",
       "      <td>1.812795</td>\n",
       "      <td>2.121569</td>\n",
       "      <td>-0.645003</td>\n",
       "      <td>-0.084161</td>\n",
       "      <td>0.291708</td>\n",
       "      <td>0.895735</td>\n",
       "      <td>-0.161936</td>\n",
       "      <td>-3.285518</td>\n",
       "      <td>-0.825901</td>\n",
       "      <td>1.274902</td>\n",
       "      <td>-1.511159</td>\n",
       "      <td>1</td>\n",
       "    </tr>\n",
       "    <tr>\n",
       "      <th>2</th>\n",
       "      <td>-1.779541</td>\n",
       "      <td>1.762314</td>\n",
       "      <td>4.016032</td>\n",
       "      <td>0.035792</td>\n",
       "      <td>1.355660</td>\n",
       "      <td>0.832701</td>\n",
       "      <td>-1.580263</td>\n",
       "      <td>0.154844</td>\n",
       "      <td>-2.237661</td>\n",
       "      <td>0.929003</td>\n",
       "      <td>-0.376026</td>\n",
       "      <td>-0.653855</td>\n",
       "      <td>-0.402256</td>\n",
       "      <td>0.478060</td>\n",
       "      <td>0.877429</td>\n",
       "      <td>1</td>\n",
       "    </tr>\n",
       "    <tr>\n",
       "      <th>3</th>\n",
       "      <td>0.207766</td>\n",
       "      <td>0.923400</td>\n",
       "      <td>3.013929</td>\n",
       "      <td>0.512850</td>\n",
       "      <td>1.719841</td>\n",
       "      <td>1.264044</td>\n",
       "      <td>0.246249</td>\n",
       "      <td>-0.240519</td>\n",
       "      <td>-1.684115</td>\n",
       "      <td>1.593128</td>\n",
       "      <td>0.272973</td>\n",
       "      <td>-0.536422</td>\n",
       "      <td>-1.529846</td>\n",
       "      <td>-0.420763</td>\n",
       "      <td>0.980616</td>\n",
       "      <td>1</td>\n",
       "    </tr>\n",
       "    <tr>\n",
       "      <th>4</th>\n",
       "      <td>1.617355</td>\n",
       "      <td>-1.126247</td>\n",
       "      <td>1.602206</td>\n",
       "      <td>-0.353813</td>\n",
       "      <td>0.686914</td>\n",
       "      <td>1.027330</td>\n",
       "      <td>0.446580</td>\n",
       "      <td>1.616905</td>\n",
       "      <td>-2.127050</td>\n",
       "      <td>-0.056191</td>\n",
       "      <td>-0.252091</td>\n",
       "      <td>0.327643</td>\n",
       "      <td>0.576269</td>\n",
       "      <td>0.507213</td>\n",
       "      <td>2.225067</td>\n",
       "      <td>1</td>\n",
       "    </tr>\n",
       "    <tr>\n",
       "      <th>...</th>\n",
       "      <td>...</td>\n",
       "      <td>...</td>\n",
       "      <td>...</td>\n",
       "      <td>...</td>\n",
       "      <td>...</td>\n",
       "      <td>...</td>\n",
       "      <td>...</td>\n",
       "      <td>...</td>\n",
       "      <td>...</td>\n",
       "      <td>...</td>\n",
       "      <td>...</td>\n",
       "      <td>...</td>\n",
       "      <td>...</td>\n",
       "      <td>...</td>\n",
       "      <td>...</td>\n",
       "      <td>...</td>\n",
       "    </tr>\n",
       "    <tr>\n",
       "      <th>999995</th>\n",
       "      <td>-0.254640</td>\n",
       "      <td>-0.294377</td>\n",
       "      <td>1.799501</td>\n",
       "      <td>-1.157973</td>\n",
       "      <td>-0.682925</td>\n",
       "      <td>-3.114414</td>\n",
       "      <td>-0.867558</td>\n",
       "      <td>-0.526034</td>\n",
       "      <td>0.338229</td>\n",
       "      <td>-0.726139</td>\n",
       "      <td>-0.755106</td>\n",
       "      <td>0.312630</td>\n",
       "      <td>0.165513</td>\n",
       "      <td>-2.278454</td>\n",
       "      <td>-1.790693</td>\n",
       "      <td>0</td>\n",
       "    </tr>\n",
       "    <tr>\n",
       "      <th>999996</th>\n",
       "      <td>-0.510538</td>\n",
       "      <td>0.174858</td>\n",
       "      <td>-1.690332</td>\n",
       "      <td>-0.979341</td>\n",
       "      <td>0.159700</td>\n",
       "      <td>-2.239727</td>\n",
       "      <td>-0.133775</td>\n",
       "      <td>-0.169664</td>\n",
       "      <td>-0.526471</td>\n",
       "      <td>-0.012527</td>\n",
       "      <td>-1.189699</td>\n",
       "      <td>-0.057659</td>\n",
       "      <td>-1.646648</td>\n",
       "      <td>-1.517083</td>\n",
       "      <td>-1.221780</td>\n",
       "      <td>0</td>\n",
       "    </tr>\n",
       "    <tr>\n",
       "      <th>999997</th>\n",
       "      <td>2.447973</td>\n",
       "      <td>0.056810</td>\n",
       "      <td>1.893539</td>\n",
       "      <td>-2.116490</td>\n",
       "      <td>-0.875138</td>\n",
       "      <td>3.287819</td>\n",
       "      <td>1.479123</td>\n",
       "      <td>-2.385236</td>\n",
       "      <td>-3.031637</td>\n",
       "      <td>-1.078249</td>\n",
       "      <td>0.402492</td>\n",
       "      <td>0.556222</td>\n",
       "      <td>-0.630497</td>\n",
       "      <td>0.414832</td>\n",
       "      <td>1.054854</td>\n",
       "      <td>1</td>\n",
       "    </tr>\n",
       "    <tr>\n",
       "      <th>999998</th>\n",
       "      <td>-0.379934</td>\n",
       "      <td>0.439629</td>\n",
       "      <td>2.269793</td>\n",
       "      <td>0.452401</td>\n",
       "      <td>0.260488</td>\n",
       "      <td>2.706326</td>\n",
       "      <td>-0.890147</td>\n",
       "      <td>-0.233110</td>\n",
       "      <td>-1.398270</td>\n",
       "      <td>-0.150975</td>\n",
       "      <td>-0.688460</td>\n",
       "      <td>-2.892836</td>\n",
       "      <td>-0.056263</td>\n",
       "      <td>0.789845</td>\n",
       "      <td>-1.947316</td>\n",
       "      <td>1</td>\n",
       "    </tr>\n",
       "    <tr>\n",
       "      <th>999999</th>\n",
       "      <td>0.509161</td>\n",
       "      <td>-0.158752</td>\n",
       "      <td>0.690804</td>\n",
       "      <td>2.138161</td>\n",
       "      <td>1.808553</td>\n",
       "      <td>0.280739</td>\n",
       "      <td>0.708110</td>\n",
       "      <td>-0.566717</td>\n",
       "      <td>-0.813003</td>\n",
       "      <td>-0.829218</td>\n",
       "      <td>0.135098</td>\n",
       "      <td>-1.700822</td>\n",
       "      <td>-0.552686</td>\n",
       "      <td>-0.789511</td>\n",
       "      <td>1.077414</td>\n",
       "      <td>0</td>\n",
       "    </tr>\n",
       "  </tbody>\n",
       "</table>\n",
       "<p>1000000 rows × 16 columns</p>\n",
       "</div>"
      ],
      "text/plain": [
       "               0         1         2         3         4         5         6  \\\n",
       "0       0.353411 -0.802131 -1.411918  0.504937 -0.066823 -2.383396 -0.175416   \n",
       "1       0.669044  0.601264 -0.301888 -1.749926  1.812795  2.121569 -0.645003   \n",
       "2      -1.779541  1.762314  4.016032  0.035792  1.355660  0.832701 -1.580263   \n",
       "3       0.207766  0.923400  3.013929  0.512850  1.719841  1.264044  0.246249   \n",
       "4       1.617355 -1.126247  1.602206 -0.353813  0.686914  1.027330  0.446580   \n",
       "...          ...       ...       ...       ...       ...       ...       ...   \n",
       "999995 -0.254640 -0.294377  1.799501 -1.157973 -0.682925 -3.114414 -0.867558   \n",
       "999996 -0.510538  0.174858 -1.690332 -0.979341  0.159700 -2.239727 -0.133775   \n",
       "999997  2.447973  0.056810  1.893539 -2.116490 -0.875138  3.287819  1.479123   \n",
       "999998 -0.379934  0.439629  2.269793  0.452401  0.260488  2.706326 -0.890147   \n",
       "999999  0.509161 -0.158752  0.690804  2.138161  1.808553  0.280739  0.708110   \n",
       "\n",
       "               7         8         9        10        11        12        13  \\\n",
       "0       0.577633  2.324578  0.749826 -0.860145  6.601018  2.721100  0.021843   \n",
       "1      -0.084161  0.291708  0.895735 -0.161936 -3.285518 -0.825901  1.274902   \n",
       "2       0.154844 -2.237661  0.929003 -0.376026 -0.653855 -0.402256  0.478060   \n",
       "3      -0.240519 -1.684115  1.593128  0.272973 -0.536422 -1.529846 -0.420763   \n",
       "4       1.616905 -2.127050 -0.056191 -0.252091  0.327643  0.576269  0.507213   \n",
       "...          ...       ...       ...       ...       ...       ...       ...   \n",
       "999995 -0.526034  0.338229 -0.726139 -0.755106  0.312630  0.165513 -2.278454   \n",
       "999996 -0.169664 -0.526471 -0.012527 -1.189699 -0.057659 -1.646648 -1.517083   \n",
       "999997 -2.385236 -3.031637 -1.078249  0.402492  0.556222 -0.630497  0.414832   \n",
       "999998 -0.233110 -1.398270 -0.150975 -0.688460 -2.892836 -0.056263  0.789845   \n",
       "999999 -0.566717 -0.813003 -0.829218  0.135098 -1.700822 -0.552686 -0.789511   \n",
       "\n",
       "              14  y  \n",
       "0       0.058117  0  \n",
       "1      -1.511159  1  \n",
       "2       0.877429  1  \n",
       "3       0.980616  1  \n",
       "4       2.225067  1  \n",
       "...          ... ..  \n",
       "999995 -1.790693  0  \n",
       "999996 -1.221780  0  \n",
       "999997  1.054854  1  \n",
       "999998 -1.947316  1  \n",
       "999999  1.077414  0  \n",
       "\n",
       "[1000000 rows x 16 columns]"
      ]
     },
     "execution_count": 37,
     "metadata": {},
     "output_type": "execute_result"
    }
   ],
   "source": [
    "# df = pd.concat([dfx, dfy], 1)\n",
    "# df"
   ]
  },
  {
   "cell_type": "code",
   "execution_count": 38,
   "id": "c2204bb1",
   "metadata": {},
   "outputs": [],
   "source": [
    "# df_copy = df.copy()\n",
    "# for i, col in enumerate(df.columns):  \n",
    "#     df_copy.loc[df_copy.sample(frac=0.3).index, col] = np.nan"
   ]
  },
  {
   "cell_type": "code",
   "execution_count": 31,
   "id": "b3587764",
   "metadata": {},
   "outputs": [
    {
     "name": "stdout",
     "output_type": "stream",
     "text": [
      "f1 점수: 0.989 정확도: 0.989 정밀도: 0.984 재현율: 0.995\n"
     ]
    }
   ],
   "source": [
    "# from sklearn.linear_model import LogisticRegression\n",
    "# from sklearn.model_selection import train_test_split\n",
    "# from sklearn.metrics import accuracy_score,precision_score,recall_score, f1_score, confusion_matrix\n",
    "# model = LogisticRegression(random_state=0)\n",
    "# X_train, X_test, y_train, y_test = train_test_split(X, y, test_size=0.3, random_state=0)\n",
    "# model.fit(X_train, y_train)\n",
    "# pred = model.predict(X_test)\n",
    "# accuracy = round(accuracy_score(y_test, pred), 3)\n",
    "# precision = round(precision_score(y_test, pred), 3)\n",
    "# recall = round(recall_score(y_test, pred), 3)\n",
    "# f1 = round(f1_score(y_test, pred), 3)\n",
    "# print( \"f1 점수:\", f1, \"정확도:\", accuracy, \"정밀도:\", precision, \"재현율:\", recall)"
   ]
  },
  {
   "cell_type": "code",
   "execution_count": 11,
   "id": "b6828103",
   "metadata": {},
   "outputs": [
    {
     "ename": "ValueError",
     "evalue": "list.remove(x): x not in list",
     "output_type": "error",
     "traceback": [
      "\u001b[1;31m---------------------------------------------------------------------------\u001b[0m",
      "\u001b[1;31mValueError\u001b[0m                                Traceback (most recent call last)",
      "Input \u001b[1;32mIn [11]\u001b[0m, in \u001b[0;36m<cell line: 3>\u001b[1;34m()\u001b[0m\n\u001b[0;32m      1\u001b[0m \u001b[38;5;66;03m## 널 만들기\u001b[39;00m\n\u001b[0;32m      2\u001b[0m cols \u001b[38;5;241m=\u001b[39m \u001b[38;5;28mlist\u001b[39m(df\u001b[38;5;241m.\u001b[39mcolumns)\n\u001b[1;32m----> 3\u001b[0m \u001b[43mcols\u001b[49m\u001b[38;5;241;43m.\u001b[39;49m\u001b[43mremove\u001b[49m\u001b[43m(\u001b[49m\u001b[38;5;124;43m'\u001b[39;49m\u001b[38;5;124;43mEventId\u001b[39;49m\u001b[38;5;124;43m'\u001b[39;49m\u001b[43m)\u001b[49m\n\u001b[0;32m      4\u001b[0m cols\u001b[38;5;241m.\u001b[39mremove(\u001b[38;5;124m'\u001b[39m\u001b[38;5;124mLabel\u001b[39m\u001b[38;5;124m'\u001b[39m)\n\u001b[0;32m      5\u001b[0m df1 \u001b[38;5;241m=\u001b[39m df0\u001b[38;5;241m.\u001b[39mcopy()\n",
      "\u001b[1;31mValueError\u001b[0m: list.remove(x): x not in list"
     ]
    }
   ],
   "source": [
    "# ## 널 만들기\n",
    "# cols = list(df.columns)\n",
    "# cols.remove('EventId')\n",
    "# cols.remove('Label')\n",
    "# df1 = df0.copy()\n",
    "# for i, col in enumerate(cols0):  \n",
    "#     df1.loc[df1.sample(frac=0.8).index, col] = np.nan  \n",
    "# for i, col in enumerate(cols1):  \n",
    "#     df1.loc[df1.sample(frac=0.8).index, col] = np.nan    \n",
    "# for i, col in enumerate(cols2):\n",
    "#     df1.loc[df1.sample(frac=0.5).index, col] = np.nan\n",
    "# df1.to_csv(r\"C:\\Users\\jh\\0py_dev\\digitalship\\data\\higgs\\higgs.csv\", index=False)"
   ]
  },
  {
   "cell_type": "code",
   "execution_count": null,
   "id": "c5f31aa8",
   "metadata": {},
   "outputs": [],
   "source": [
    "df00"
   ]
  },
  {
   "cell_type": "code",
   "execution_count": null,
   "id": "df548b7c",
   "metadata": {},
   "outputs": [],
   "source": [
    "df0['Label'].value_counts(True)"
   ]
  },
  {
   "cell_type": "code",
   "execution_count": null,
   "id": "16f7173b",
   "metadata": {},
   "outputs": [],
   "source": [
    "df10 = df00.replace(-999, np.nan)\n",
    "cols = list(df.columns)\n",
    "cols.remove('EventId')\n",
    "cols.remove('Label')\n",
    "df1 = df10.copy()\n",
    "for i, col in enumerate(cols0):  \n",
    "    df1.loc[df1.sample(frac=0.8).index, col] = np.nan  \n",
    "for i, col in enumerate(cols1):  \n",
    "    df1.loc[df1.sample(frac=0.8).index, col] = np.nan    \n",
    "for i, col in enumerate(cols2):\n",
    "    df1.loc[df1.sample(frac=0.5).index, col] = np.nan\n",
    "df1.to_csv(r\"C:\\Users\\jh\\0py_dev\\digitalship\\data\\higgs\\higgs.csv\", index=False)"
   ]
  },
  {
   "cell_type": "code",
   "execution_count": null,
   "id": "1c247973",
   "metadata": {},
   "outputs": [],
   "source": [
    "df1.info()"
   ]
  },
  {
   "cell_type": "code",
   "execution_count": null,
   "id": "b29f4f0d",
   "metadata": {},
   "outputs": [],
   "source": []
  }
 ],
 "metadata": {
  "kernelspec": {
   "display_name": "Python 3 (ipykernel)",
   "language": "python",
   "name": "python3"
  },
  "language_info": {
   "codemirror_mode": {
    "name": "ipython",
    "version": 3
   },
   "file_extension": ".py",
   "mimetype": "text/x-python",
   "name": "python",
   "nbconvert_exporter": "python",
   "pygments_lexer": "ipython3",
   "version": "3.9.12"
  }
 },
 "nbformat": 4,
 "nbformat_minor": 5
}
