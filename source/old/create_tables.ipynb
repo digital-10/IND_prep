{
 "cells": [
  {
   "cell_type": "code",
   "execution_count": 1,
   "id": "f8b37658",
   "metadata": {},
   "outputs": [],
   "source": [
    "from sqlalchemy import create_engine\n",
    "\n",
    "\n",
    "host='192.168.10.17'\n",
    "database_j = 'jips'\n",
    "database_m = 'metadata'\n",
    "user='root'\n",
    "password='1234'\n",
    "port=3306\n"
   ]
  },
  {
   "cell_type": "code",
   "execution_count": 3,
   "id": "2abc0863",
   "metadata": {},
   "outputs": [],
   "source": [
    "try:\n",
    "#     sql = \"CREATE DATABASE metadata\"\n",
    "#     engine = create_engine(f'mysql+mysqlconnector://{user}:{password}@{host}:{port}/{database}')    \n",
    "    engine = create_engine(f'mysql+mysqlconnector://{user}:{password}@{host}:{port}')    \n",
    "#     df = pd.read_sql(sql, con=engine)\n",
    "    with engine.connect() as conn:\n",
    "        conn.execute(f\"CREATE DATABASE IF NOT EXISTS metadata\")  \n",
    "\n",
    "except Exception as e:\n",
    "    print(e)"
   ]
  },
  {
   "cell_type": "code",
   "execution_count": 4,
   "id": "8d965f10",
   "metadata": {},
   "outputs": [],
   "source": [
    "# ddl = \"CREATE TABLE metadata.eda( \\\n",
    "# id int not null auto_increment, \\\n",
    "# tblname VARCHAR(100) NOT NULL, \\\n",
    "# gubun VARCHAR(50) NOT NULL, \\\n",
    "# variable VARCHAR(50) NOT NULL, \\\n",
    "# description VARCHAR(100) NOT NULL, \\\n",
    "# value varchar(400), \\\n",
    "# PRIMARY KEY (id))\"\n",
    "\n",
    "# try: \n",
    "#     engine = create_engine(f'mysql+mysqlconnector://{user}:{password}@{host}:{port}')    \n",
    "#     with engine.connect() as conn:\n",
    "#         conn.execute(\"DROP TABLE IF EXISTS metadata.eda\")\n",
    "#         conn.execute(ddl)\n",
    "# except Exception as e:\n",
    "#     print(e)"
   ]
  },
  {
   "cell_type": "code",
   "execution_count": 6,
   "id": "7f75ea41",
   "metadata": {},
   "outputs": [],
   "source": [
    "ddl = \"CREATE TABLE metadata.dcat( \\\n",
    "id int not null auto_increment, \\\n",
    "filename VARCHAR(100) NOT NULL, \\\n",
    "filetype VARCHAR(10) NOT NULL, \\\n",
    "PRIMARY KEY (id))\"\n",
    "\n",
    "try: \n",
    "    engine = create_engine(f'mysql+mysqlconnector://{user}:{password}@{host}:{port}')    \n",
    "    with engine.connect() as conn:\n",
    "        conn.execute(\"DROP TABLE IF EXISTS metadata.dcat\")\n",
    "        conn.execute(ddl)\n",
    "except Exception as e:\n",
    "    print(e)"
   ]
  },
  {
   "cell_type": "code",
   "execution_count": null,
   "id": "57ebc00f",
   "metadata": {},
   "outputs": [],
   "source": []
  }
 ],
 "metadata": {
  "kernelspec": {
   "display_name": "Python 3 (ipykernel)",
   "language": "python",
   "name": "python3"
  },
  "language_info": {
   "codemirror_mode": {
    "name": "ipython",
    "version": 3
   },
   "file_extension": ".py",
   "mimetype": "text/x-python",
   "name": "python",
   "nbconvert_exporter": "python",
   "pygments_lexer": "ipython3",
   "version": "3.11.3"
  }
 },
 "nbformat": 4,
 "nbformat_minor": 5
}
