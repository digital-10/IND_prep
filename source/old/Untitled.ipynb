{
 "cells": [
  {
   "cell_type": "code",
   "execution_count": 1,
   "id": "972bea2f",
   "metadata": {},
   "outputs": [],
   "source": [
    "from elasticsearch import helpers, Elasticsearch\n",
    "import csv\n",
    "import pandas as pd"
   ]
  },
  {
   "cell_type": "code",
   "execution_count": 2,
   "id": "07d68296",
   "metadata": {},
   "outputs": [
    {
     "data": {
      "text/plain": [
       "ObjectApiResponse({'name': 'node-1', 'cluster_name': 'elasticsearch', 'cluster_uuid': 'Mq2gLoz6RSetdj_kSMq0mA', 'version': {'number': '7.17.10', 'build_flavor': 'default', 'build_type': 'deb', 'build_hash': 'fecd68e3150eda0c307ab9a9d7557f5d5fd71349', 'build_date': '2023-04-23T05:33:18.138275597Z', 'build_snapshot': False, 'lucene_version': '8.11.1', 'minimum_wire_compatibility_version': '6.8.0', 'minimum_index_compatibility_version': '6.0.0-beta1'}, 'tagline': 'You Know, for Search'})"
      ]
     },
     "execution_count": 2,
     "metadata": {},
     "output_type": "execute_result"
    }
   ],
   "source": [
    "ELASTIC_PASSWORD = \"elastic\"\n",
    "es = Elasticsearch(\n",
    "    hosts=\"http://192.168.56.101:9200\",    \n",
    "    basic_auth=(\"elastic\", ELASTIC_PASSWORD) )\n",
    "# )\n",
    "es.info()\n",
    "# es = Elasticsearch(\"http://192.168.56.101:5601\")"
   ]
  },
  {
   "cell_type": "code",
   "execution_count": 3,
   "id": "2e2474e9",
   "metadata": {},
   "outputs": [
    {
     "data": {
      "text/html": [
       "<div>\n",
       "<style scoped>\n",
       "    .dataframe tbody tr th:only-of-type {\n",
       "        vertical-align: middle;\n",
       "    }\n",
       "\n",
       "    .dataframe tbody tr th {\n",
       "        vertical-align: top;\n",
       "    }\n",
       "\n",
       "    .dataframe thead th {\n",
       "        text-align: right;\n",
       "    }\n",
       "</style>\n",
       "<table border=\"1\" class=\"dataframe\">\n",
       "  <thead>\n",
       "    <tr style=\"text-align: right;\">\n",
       "      <th></th>\n",
       "      <th>DT</th>\n",
       "      <th>HT</th>\n",
       "      <th>HEAT_DEMAND_HOUR_MEAN</th>\n",
       "      <th>HEAT_DEMAND_HOUR_MAX</th>\n",
       "      <th>HEAT_DEMAND_HOUR_MIN</th>\n",
       "      <th>HEAT_DEMAND_HOUR_TOTAL</th>\n",
       "      <th>REG_DT</th>\n",
       "    </tr>\n",
       "  </thead>\n",
       "  <tbody>\n",
       "    <tr>\n",
       "      <th>0</th>\n",
       "      <td>2019-12-13</td>\n",
       "      <td>01:00:00</td>\n",
       "      <td>10752.817110</td>\n",
       "      <td>12020.03</td>\n",
       "      <td>9133.879</td>\n",
       "      <td>3.865638e+07</td>\n",
       "      <td>2020-06-28 15:17:07.000</td>\n",
       "    </tr>\n",
       "    <tr>\n",
       "      <th>1</th>\n",
       "      <td>2019-12-13</td>\n",
       "      <td>02:00:00</td>\n",
       "      <td>9908.163398</td>\n",
       "      <td>11387.31</td>\n",
       "      <td>8084.865</td>\n",
       "      <td>3.562976e+07</td>\n",
       "      <td>2020-06-28 15:17:07.000</td>\n",
       "    </tr>\n",
       "    <tr>\n",
       "      <th>2</th>\n",
       "      <td>2019-12-13</td>\n",
       "      <td>03:00:00</td>\n",
       "      <td>9338.988207</td>\n",
       "      <td>11046.24</td>\n",
       "      <td>7559.211</td>\n",
       "      <td>3.358300e+07</td>\n",
       "      <td>2020-06-28 15:17:07.000</td>\n",
       "    </tr>\n",
       "    <tr>\n",
       "      <th>3</th>\n",
       "      <td>2019-12-13</td>\n",
       "      <td>04:00:00</td>\n",
       "      <td>8958.923677</td>\n",
       "      <td>10095.53</td>\n",
       "      <td>7335.011</td>\n",
       "      <td>3.220733e+07</td>\n",
       "      <td>2020-06-28 15:17:07.000</td>\n",
       "    </tr>\n",
       "    <tr>\n",
       "      <th>4</th>\n",
       "      <td>2019-12-13</td>\n",
       "      <td>05:00:00</td>\n",
       "      <td>8798.522806</td>\n",
       "      <td>10038.19</td>\n",
       "      <td>7325.010</td>\n",
       "      <td>3.163949e+07</td>\n",
       "      <td>2020-06-28 15:17:07.000</td>\n",
       "    </tr>\n",
       "    <tr>\n",
       "      <th>...</th>\n",
       "      <td>...</td>\n",
       "      <td>...</td>\n",
       "      <td>...</td>\n",
       "      <td>...</td>\n",
       "      <td>...</td>\n",
       "      <td>...</td>\n",
       "      <td>...</td>\n",
       "    </tr>\n",
       "    <tr>\n",
       "      <th>8512</th>\n",
       "      <td>2021-01-06</td>\n",
       "      <td>09:00:00</td>\n",
       "      <td>17878.783874</td>\n",
       "      <td>19734.17</td>\n",
       "      <td>15042.240</td>\n",
       "      <td>6.429211e+07</td>\n",
       "      <td>2021-01-06 09:00:00.000</td>\n",
       "    </tr>\n",
       "    <tr>\n",
       "      <th>8513</th>\n",
       "      <td>2021-01-06</td>\n",
       "      <td>10:00:00</td>\n",
       "      <td>15580.221902</td>\n",
       "      <td>17821.58</td>\n",
       "      <td>14174.400</td>\n",
       "      <td>5.602648e+07</td>\n",
       "      <td>2021-01-06 10:00:00.000</td>\n",
       "    </tr>\n",
       "    <tr>\n",
       "      <th>8514</th>\n",
       "      <td>2021-01-06</td>\n",
       "      <td>11:00:00</td>\n",
       "      <td>13396.522600</td>\n",
       "      <td>15809.16</td>\n",
       "      <td>11699.350</td>\n",
       "      <td>4.817390e+07</td>\n",
       "      <td>2021-01-06 11:00:00.000</td>\n",
       "    </tr>\n",
       "    <tr>\n",
       "      <th>8515</th>\n",
       "      <td>2021-01-06</td>\n",
       "      <td>12:00:00</td>\n",
       "      <td>12378.821499</td>\n",
       "      <td>14067.34</td>\n",
       "      <td>10480.570</td>\n",
       "      <td>4.451424e+07</td>\n",
       "      <td>2021-01-06 12:00:00.000</td>\n",
       "    </tr>\n",
       "    <tr>\n",
       "      <th>8516</th>\n",
       "      <td>2021-01-06</td>\n",
       "      <td>13:00:00</td>\n",
       "      <td>11638.077593</td>\n",
       "      <td>13249.45</td>\n",
       "      <td>9490.019</td>\n",
       "      <td>4.185053e+07</td>\n",
       "      <td>2021-01-06 13:00:00.000</td>\n",
       "    </tr>\n",
       "  </tbody>\n",
       "</table>\n",
       "<p>8517 rows × 7 columns</p>\n",
       "</div>"
      ],
      "text/plain": [
       "              DT        HT  HEAT_DEMAND_HOUR_MEAN  HEAT_DEMAND_HOUR_MAX  \\\n",
       "0     2019-12-13  01:00:00           10752.817110              12020.03   \n",
       "1     2019-12-13  02:00:00            9908.163398              11387.31   \n",
       "2     2019-12-13  03:00:00            9338.988207              11046.24   \n",
       "3     2019-12-13  04:00:00            8958.923677              10095.53   \n",
       "4     2019-12-13  05:00:00            8798.522806              10038.19   \n",
       "...          ...       ...                    ...                   ...   \n",
       "8512  2021-01-06  09:00:00           17878.783874              19734.17   \n",
       "8513  2021-01-06  10:00:00           15580.221902              17821.58   \n",
       "8514  2021-01-06  11:00:00           13396.522600              15809.16   \n",
       "8515  2021-01-06  12:00:00           12378.821499              14067.34   \n",
       "8516  2021-01-06  13:00:00           11638.077593              13249.45   \n",
       "\n",
       "      HEAT_DEMAND_HOUR_MIN  HEAT_DEMAND_HOUR_TOTAL                   REG_DT  \n",
       "0                 9133.879            3.865638e+07  2020-06-28 15:17:07.000  \n",
       "1                 8084.865            3.562976e+07  2020-06-28 15:17:07.000  \n",
       "2                 7559.211            3.358300e+07  2020-06-28 15:17:07.000  \n",
       "3                 7335.011            3.220733e+07  2020-06-28 15:17:07.000  \n",
       "4                 7325.010            3.163949e+07  2020-06-28 15:17:07.000  \n",
       "...                    ...                     ...                      ...  \n",
       "8512             15042.240            6.429211e+07  2021-01-06 09:00:00.000  \n",
       "8513             14174.400            5.602648e+07  2021-01-06 10:00:00.000  \n",
       "8514             11699.350            4.817390e+07  2021-01-06 11:00:00.000  \n",
       "8515             10480.570            4.451424e+07  2021-01-06 12:00:00.000  \n",
       "8516              9490.019            4.185053e+07  2021-01-06 13:00:00.000  \n",
       "\n",
       "[8517 rows x 7 columns]"
      ]
     },
     "execution_count": 3,
     "metadata": {},
     "output_type": "execute_result"
    }
   ],
   "source": [
    "df = pd.read_csv(r\"C:\\Users\\jh\\0py_dev\\digitalship\\data\\LC_DCS_HEAT_DEMAND_STAT_HOUR_202306070859.csv\")\n",
    "df"
   ]
  },
  {
   "cell_type": "code",
   "execution_count": 11,
   "id": "daf54dc4",
   "metadata": {},
   "outputs": [
    {
     "data": {
      "text/plain": [
       "{'DT': '2019-12-13',\n",
       " 'HT': '02:00:00',\n",
       " 'HEAT_DEMAND_HOUR_MEAN': 9908.16339766406,\n",
       " 'HEAT_DEMAND_HOUR_MAX': 11387.31,\n",
       " 'HEAT_DEMAND_HOUR_MIN': 8084.865,\n",
       " 'HEAT_DEMAND_HOUR_TOTAL': 35629755.57799996,\n",
       " 'REG_DT': '2020-06-28 15:17:07.000'}"
      ]
     },
     "execution_count": 11,
     "metadata": {},
     "output_type": "execute_result"
    }
   ],
   "source": [
    "df01 = df.iloc[1]\n",
    "d01 = df01.to_dict()\n",
    "d01"
   ]
  },
  {
   "cell_type": "code",
   "execution_count": 12,
   "id": "f5f6ce97",
   "metadata": {},
   "outputs": [
    {
     "name": "stderr",
     "output_type": "stream",
     "text": [
      "C:\\Users\\jh\\AppData\\Local\\Temp\\ipykernel_24584\\953127762.py:7: DeprecationWarning: The 'body' parameter is deprecated and will be removed in a future version. Instead use the 'document' parameter. See https://github.com/elastic/elasticsearch-py/issues/1698 for more information\n",
      "  es.index(index=index, body=d01)\n"
     ]
    },
    {
     "data": {
      "text/plain": [
       "ObjectApiResponse({'_index': 'lc_dcs_heat_demand_stat_hour', '_type': '_doc', '_id': 'ufvR7IgBLNfAQ8IU3cpU', '_version': 1, 'result': 'created', '_shards': {'total': 2, 'successful': 1, 'failed': 0}, '_seq_no': 1, '_primary_term': 1})"
      ]
     },
     "execution_count": 12,
     "metadata": {},
     "output_type": "execute_result"
    }
   ],
   "source": [
    "index = \"LC_DCS_HEAT_DEMAND_STAT_HOUR\".lower()\n",
    "if es.indices.exists(index=index):\n",
    "\tpass\n",
    "else:\n",
    "\tes.indices.create(index=index)\n",
    "\n",
    "es.index(index=index, body=d01)"
   ]
  },
  {
   "cell_type": "code",
   "execution_count": null,
   "id": "2244910f",
   "metadata": {},
   "outputs": [],
   "source": []
  }
 ],
 "metadata": {
  "kernelspec": {
   "display_name": "Python 3 (ipykernel)",
   "language": "python",
   "name": "python3"
  },
  "language_info": {
   "codemirror_mode": {
    "name": "ipython",
    "version": 3
   },
   "file_extension": ".py",
   "mimetype": "text/x-python",
   "name": "python",
   "nbconvert_exporter": "python",
   "pygments_lexer": "ipython3",
   "version": "3.9.12"
  }
 },
 "nbformat": 4,
 "nbformat_minor": 5
}
