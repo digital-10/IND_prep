{
 "cells": [
  {
   "cell_type": "code",
   "execution_count": 1,
   "id": "16046fba",
   "metadata": {},
   "outputs": [],
   "source": [
    "import joblib\n",
    "import pandas as pd\n",
    "from sklearn.metrics import accuracy_score,precision_score,recall_score, f1_score, confusion_matrix\n",
    "import warnings\n",
    "warnings.filterwarnings('ignore')\n",
    "\n",
    "dest_path = r\"C:\\Users\\jh\\0py_dev\\digitalship\\data_preprocessed\\metro\\testset\"\n",
    "X_test = pd.read_csv(r'C:\\Users\\Digitalship_PC\\pydev\\digitalship\\data_preprocessed\\metro\\testset\\X_test.csv')\n",
    "y_test = pd.read_csv(r'C:\\Users\\Digitalship_PC\\pydev\\digitalship\\data_preprocessed\\metro\\testset\\y_test.csv')\n",
    "loaded_model = joblib.load(r'C:\\Users\\Digitalship_PC\\pydev\\digitalship\\best_model\\model.pkl')\n",
    "pred = loaded_model.predict(X_test)"
   ]
  },
  {
   "cell_type": "code",
   "execution_count": 2,
   "id": "a06d3ae2",
   "metadata": {},
   "outputs": [
    {
     "name": "stdout",
     "output_type": "stream",
     "text": [
      "0.7546653565124753 0.7450359133403704\n"
     ]
    }
   ],
   "source": [
    "pred = loaded_model.predict(X_test)\n",
    "accuracy = accuracy_score(y_test, pred)\n",
    "f1 = f1_score(y_test, pred)\n",
    "print(f1, accuracy)"
   ]
  },
  {
   "cell_type": "code",
   "execution_count": null,
   "id": "40356531",
   "metadata": {},
   "outputs": [],
   "source": []
  },
  {
   "cell_type": "code",
   "execution_count": 5,
   "id": "26f67772",
   "metadata": {},
   "outputs": [],
   "source": [
    "pd.DataFrame(pred, columns=['prediction']).to_csv('prediction.csv', index=False)"
   ]
  },
  {
   "cell_type": "code",
   "execution_count": null,
   "id": "a07ec5d5",
   "metadata": {},
   "outputs": [],
   "source": []
  }
 ],
 "metadata": {
  "kernelspec": {
   "display_name": "Python 3 (ipykernel)",
   "language": "python",
   "name": "python3"
  },
  "language_info": {
   "codemirror_mode": {
    "name": "ipython",
    "version": 3
   },
   "file_extension": ".py",
   "mimetype": "text/x-python",
   "name": "python",
   "nbconvert_exporter": "python",
   "pygments_lexer": "ipython3",
   "version": "3.11.3"
  }
 },
 "nbformat": 4,
 "nbformat_minor": 5
}
