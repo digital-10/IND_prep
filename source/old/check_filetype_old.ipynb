{
 "cells": [
  {
   "cell_type": "code",
   "execution_count": 1,
   "id": "00998506",
   "metadata": {},
   "outputs": [],
   "source": [
    "import filetype"
   ]
  },
  {
   "cell_type": "code",
   "execution_count": 2,
   "id": "7658abb2",
   "metadata": {},
   "outputs": [
    {
     "name": "stdout",
     "output_type": "stream",
     "text": [
      "File extension: jpg\n",
      "File MIME type: image/jpeg\n"
     ]
    }
   ],
   "source": [
    "file = filetype.guess(r\"D:\\download\\Sample_abc.a\")\n",
    "if file is None:\n",
    "    print('Cannot guess file type!')\n",
    "else:\n",
    "    print('File extension: %s' % file.extension)\n",
    "    print('File MIME type: %s' % file.mime)"
   ]
  },
  {
   "cell_type": "code",
   "execution_count": 3,
   "id": "3decbac0",
   "metadata": {},
   "outputs": [
    {
     "name": "stdout",
     "output_type": "stream",
     "text": [
      "File extension: mp4\n",
      "File MIME type: video/mp4\n"
     ]
    }
   ],
   "source": [
    "file = filetype.guess(r\"D:\\download\\file_example_MP4_480_1_5MG.csv\")\n",
    "\"D:\\download\\jb_04.csv\"\n",
    "if file is None:\n",
    "    print('Cannot guess file type!')\n",
    "else:\n",
    "    print('File extension: %s' % file.extension)\n",
    "    print('File MIME type: %s' % file.mime)"
   ]
  },
  {
   "cell_type": "code",
   "execution_count": 4,
   "id": "9ee2d53f",
   "metadata": {},
   "outputs": [
    {
     "name": "stdout",
     "output_type": "stream",
     "text": [
      "Cannot guess file type!\n"
     ]
    }
   ],
   "source": [
    "file = filetype.guess(r\"D:\\download\\jb_04.csv\")\n",
    "if file is None:\n",
    "    print('Cannot guess file type!')\n",
    "else:\n",
    "    print('File extension: %s' % file.extension)\n",
    "    print('File MIME type: %s' % file.mime)"
   ]
  },
  {
   "cell_type": "code",
   "execution_count": 6,
   "id": "d39c1b3f",
   "metadata": {},
   "outputs": [
    {
     "name": "stdout",
     "output_type": "stream",
     "text": [
      "File extension: mp3\n",
      "File MIME type: audio/mpeg\n"
     ]
    }
   ],
   "source": [
    "file = filetype.guess(r\"D:\\download\\13.01\")\n",
    "if file is None:\n",
    "    print('Cannot guess file type!')\n",
    "else:\n",
    "    print('File extension: %s' % file.extension)\n",
    "    print('File MIME type: %s' % file.mime)"
   ]
  },
  {
   "cell_type": "code",
   "execution_count": 7,
   "id": "009e477f",
   "metadata": {},
   "outputs": [
    {
     "name": "stdout",
     "output_type": "stream",
     "text": [
      "Cannot guess file type!\n"
     ]
    }
   ],
   "source": [
    "file = filetype.guess(r\"D:\\download\\ML설치_패키지.txt\")\n",
    "if file is None:\n",
    "    print('Cannot guess file type!')\n",
    "else:\n",
    "    print('File extension: %s' % file.extension)\n",
    "    print('File MIME type: %s' % file.mime)"
   ]
  },
  {
   "cell_type": "code",
   "execution_count": 12,
   "id": "f202bbd1",
   "metadata": {},
   "outputs": [],
   "source": [
    "import csv\n",
    "file1 = r\"D:\\download\\file_example_MP4_480_1_5MG.csv\"\n",
    "file2 = r\"D:\\download\\spool_test2.csv\"\n",
    "file3 = \"D:\\download\\DP230170_특허증.pdf\"\n",
    "def isCsv(file):\n",
    "    with open(file, newline='') as csvfile:\n",
    "        spamreader = csv.reader(csvfile, delimiter=' ', quotechar='|')\n",
    "        try:\n",
    "            for row in spamreader:\n",
    "                return True\n",
    "        except Exception as e:\n",
    "            return False"
   ]
  },
  {
   "cell_type": "code",
   "execution_count": 10,
   "id": "a107b4f6",
   "metadata": {},
   "outputs": [
    {
     "data": {
      "text/plain": [
       "False"
      ]
     },
     "execution_count": 10,
     "metadata": {},
     "output_type": "execute_result"
    }
   ],
   "source": [
    "isCsv(file1)"
   ]
  },
  {
   "cell_type": "code",
   "execution_count": 11,
   "id": "99abc4a1",
   "metadata": {},
   "outputs": [
    {
     "data": {
      "text/plain": [
       "True"
      ]
     },
     "execution_count": 11,
     "metadata": {},
     "output_type": "execute_result"
    }
   ],
   "source": [
    "isCsv(file2)"
   ]
  },
  {
   "cell_type": "code",
   "execution_count": 14,
   "id": "fce122e0",
   "metadata": {},
   "outputs": [
    {
     "data": {
      "text/plain": [
       "False"
      ]
     },
     "execution_count": 14,
     "metadata": {},
     "output_type": "execute_result"
    }
   ],
   "source": [
    "f4 = \"D:\\download\\stay.xlsx\"\n",
    "isCsv(f4)"
   ]
  },
  {
   "cell_type": "code",
   "execution_count": 8,
   "id": "962ac62c",
   "metadata": {},
   "outputs": [],
   "source": [
    "import mimetypes\n",
    "if mimetypes.guess_type('full path to document here')[0] == 'text/plain':\n",
    "    # file is plaintext"
   ]
  },
  {
   "cell_type": "code",
   "execution_count": 12,
   "id": "ca5691ba",
   "metadata": {},
   "outputs": [
    {
     "data": {
      "text/plain": [
       "'application/vnd.ms-excel'"
      ]
     },
     "execution_count": 12,
     "metadata": {},
     "output_type": "execute_result"
    }
   ],
   "source": [
    "mimetypes.guess_type('D:\\download\\ML설치_패키지.txt')[0]\n",
    "mimetypes.guess_type(r\"D:\\download\\stay.xlsx\")[0]\n",
    "\n",
    "mimetypes.guess_type(r'D:\\download\\file_example_MP4_480_1_5MG.csv')[0]\n",
    "\"D:\\download\\ML설치_패키지\""
   ]
  },
  {
   "cell_type": "code",
   "execution_count": 14,
   "id": "a807874f",
   "metadata": {},
   "outputs": [
    {
     "name": "stdout",
     "output_type": "stream",
     "text": [
      "None\n"
     ]
    }
   ],
   "source": [
    "print(mimetypes.guess_type(r\"D:\\download\\ML설치_패키지\")[0])"
   ]
  },
  {
   "cell_type": "code",
   "execution_count": 11,
   "id": "8501abec",
   "metadata": {},
   "outputs": [],
   "source": [
    "#pip install python-magic-bin\n",
    "import magic\n",
    "import csv\n",
    "def isCsv(file):\n",
    "    with open(file, newline='') as csvfile:\n",
    "        spamreader = csv.reader(csvfile, delimiter=' ', quotechar='|')\n",
    "        try:\n",
    "            for row in spamreader:\n",
    "                return True\n",
    "        except Exception as e:\n",
    "            return False\n",
    "\n",
    "def check_file_type(afile):\n",
    "    try:\n",
    "        f = magic.Magic(mime=True)\n",
    "        file_type = f.from_file(afile)\n",
    "        f0 = file_type.split('/')[0]\n",
    "        if (f0 == 'image') | (f0 == 'video') | (f0 == 'audio'):\n",
    "            return f0\n",
    "        elif f0 == 'text':\n",
    "            if file_type.split('/')[1] == 'plain':\n",
    "                if isCsv(file):\n",
    "                    return 'csv'\n",
    "                else:\n",
    "                    return 'txt'\n",
    "#             elif file_type.split('/')[1] == 'html':\n",
    "#                 return 'html'\n",
    "            else:\n",
    "                return 'nothing'\n",
    "        else:\n",
    "            return \"nothing\";        \n",
    "\n",
    "    except:\n",
    "        print('error')"
   ]
  },
  {
   "cell_type": "code",
   "execution_count": 4,
   "id": "2341f968",
   "metadata": {},
   "outputs": [],
   "source": [
    "files = [ r\"D:\\download\\mmcv.txt\",r\"D:\\download\\프로필_SAMPLE.pptx\", r\"D:\\download\\Sample_abc.jpg\", r\"D:\\download\\file_example_MP4_480_1_5MG.csv\",\n",
    "         r\"D:\\download\\13.01\", r\"D:\\download\\Sample_abc.txt\", r\"D:\\download\\jb_04.csv\", r\"D:\\download\\126.html\", \n",
    "         r\"C:\\Users\\jh\\0py_dev\\digitalship\\data\\higgs\\higgs_ori.csv\",\n",
    "         r\"D:\\download\\file_example_MP4_480_1_5MG.mp4\", r\"D:\\download\\video (2160p).mp4\"]\n",
    "\n",
    "# for file in files:\n",
    "#     a = check_file_type(file)\n",
    "#     print(a)"
   ]
  },
  {
   "cell_type": "code",
   "execution_count": 35,
   "id": "1b6e2531",
   "metadata": {},
   "outputs": [],
   "source": []
  },
  {
   "cell_type": "code",
   "execution_count": 1,
   "id": "b7a75749",
   "metadata": {},
   "outputs": [],
   "source": [
    "from PIL import Image\n",
    "from PIL.ExifTags import TAGS"
   ]
  },
  {
   "cell_type": "code",
   "execution_count": 5,
   "id": "2e21807b",
   "metadata": {},
   "outputs": [],
   "source": [
    "imagename = files[2]\n",
    "image = Image.open(imagename)"
   ]
  },
  {
   "cell_type": "code",
   "execution_count": 36,
   "id": "1db5d608",
   "metadata": {},
   "outputs": [],
   "source": [
    "info_dict = {\n",
    "    \"filename\": image.filename,\n",
    "    \"image size\": image.size,\n",
    "    \"image height\": image.height,\n",
    "    \"image width\": image.width,\n",
    "    \"image format\": image.format,\n",
    "    \"image mode\": image.mode,\n",
    "    \"image is animated\": getattr(image, \"is_animated\", False),\n",
    "    \"frames in image\": getattr(image, \"n_frames\", 1)\n",
    "}\n",
    "\n",
    "exifdata = image.getexif()\n",
    "for tag_id in exifdata:    \n",
    "    tag = TAGS.get(tag_id, tag_id).lower()\n",
    "    data = exifdata.get(tag_id)\n",
    "#     print(tag, data)\n",
    "    info_dict[tag] = data\n",
    "# #     decode bytes \n",
    "#     if isinstance(data, bytes):\n",
    "#         data = data.decode()\n",
    "# #     print(f\"{tag:25}: {data}\")\n",
    "#     print(f\"{data}\")"
   ]
  },
  {
   "cell_type": "code",
   "execution_count": 37,
   "id": "e0dbf975",
   "metadata": {},
   "outputs": [
    {
     "data": {
      "text/plain": [
       "{'filename': 'D:\\\\download\\\\Sample_abc.jpg',\n",
       " 'image size': (420, 315),\n",
       " 'image height': 315,\n",
       " 'image width': 420,\n",
       " 'image format': 'JPEG',\n",
       " 'image mode': 'RGB',\n",
       " 'image is animated': False,\n",
       " 'frames in image': 1,\n",
       " 'software': 'Adobe Photoshop CS3 Macintosh',\n",
       " 'orientation': 1,\n",
       " 'datetime': '2008:02:08 15:39:41',\n",
       " 'resolutionunit': 2,\n",
       " 'exifoffset': 164,\n",
       " 'xresolution': 72.0,\n",
       " 'yresolution': 72.0}"
      ]
     },
     "execution_count": 37,
     "metadata": {},
     "output_type": "execute_result"
    }
   ],
   "source": [
    "info_dict"
   ]
  },
  {
   "cell_type": "code",
   "execution_count": 39,
   "id": "009fdc89",
   "metadata": {},
   "outputs": [],
   "source": [
    "# conda install ffmpeg\n",
    "# pip install ffmpeg-python\n",
    "import ffmpeg\n",
    "import sys\n",
    "from pprint import pprint # for printing Python dictionaries in a human-readable way"
   ]
  },
  {
   "cell_type": "code",
   "execution_count": 41,
   "id": "45ff1b42",
   "metadata": {},
   "outputs": [
    {
     "data": {
      "text/plain": [
       "{'index': 0,\n",
       " 'codec_name': 'h264',\n",
       " 'codec_long_name': 'H.264 / AVC / MPEG-4 AVC / MPEG-4 part 10',\n",
       " 'profile': 'Constrained Baseline',\n",
       " 'codec_type': 'video',\n",
       " 'codec_time_base': '1/60',\n",
       " 'codec_tag_string': 'avc1',\n",
       " 'codec_tag': '0x31637661',\n",
       " 'width': 480,\n",
       " 'height': 270,\n",
       " 'coded_width': 480,\n",
       " 'coded_height': 272,\n",
       " 'has_b_frames': 0,\n",
       " 'sample_aspect_ratio': '1:1',\n",
       " 'display_aspect_ratio': '16:9',\n",
       " 'pix_fmt': 'yuv420p',\n",
       " 'level': 30,\n",
       " 'chroma_location': 'left',\n",
       " 'refs': 1,\n",
       " 'is_avc': 'true',\n",
       " 'nal_length_size': '4',\n",
       " 'r_frame_rate': '30/1',\n",
       " 'avg_frame_rate': '30/1',\n",
       " 'time_base': '1/30',\n",
       " 'start_pts': 0,\n",
       " 'start_time': '0.000000',\n",
       " 'duration_ts': 901,\n",
       " 'duration': '30.033333',\n",
       " 'bit_rate': '301201',\n",
       " 'bits_per_raw_sample': '8',\n",
       " 'nb_frames': '901',\n",
       " 'disposition': {'default': 1,\n",
       "  'dub': 0,\n",
       "  'original': 0,\n",
       "  'comment': 0,\n",
       "  'lyrics': 0,\n",
       "  'karaoke': 0,\n",
       "  'forced': 0,\n",
       "  'hearing_impaired': 0,\n",
       "  'visual_impaired': 0,\n",
       "  'clean_effects': 0,\n",
       "  'attached_pic': 0,\n",
       "  'timed_thumbnails': 0},\n",
       " 'tags': {'creation_time': '2015-08-07T09:13:02.000000Z',\n",
       "  'language': 'und',\n",
       "  'handler_name': 'L-SMASH Video Handler',\n",
       "  'encoder': 'AVC Coding'}}"
      ]
     },
     "execution_count": 41,
     "metadata": {},
     "output_type": "execute_result"
    }
   ],
   "source": [
    "media_file = files[3] #\"file_example_MP4_480_1_5MG.mp4\"\n",
    "# pprint(ffmpeg.probe(media_file)[\"streams\"])\n",
    "# pprint(ffmpeg.probe(media_file)[\"streams\"][0])\n",
    "# pprint(ffmpeg.probe(media_file)[\"streams\"][1])\n",
    "ffmpeg.probe(media_file)[\"streams\"][0]"
   ]
  },
  {
   "cell_type": "code",
   "execution_count": 18,
   "id": "a3c192d0",
   "metadata": {},
   "outputs": [
    {
     "name": "stdout",
     "output_type": "stream",
     "text": [
      "[{'avg_frame_rate': '0/0',\n",
      "  'bit_rate': '160000',\n",
      "  'bits_per_sample': 0,\n",
      "  'channel_layout': 'stereo',\n",
      "  'channels': 2,\n",
      "  'codec_long_name': 'MP3 (MPEG audio layer 3)',\n",
      "  'codec_name': 'mp3',\n",
      "  'codec_tag': '0x0000',\n",
      "  'codec_tag_string': '[0][0][0][0]',\n",
      "  'codec_time_base': '1/44100',\n",
      "  'codec_type': 'audio',\n",
      "  'disposition': {'attached_pic': 0,\n",
      "                  'clean_effects': 0,\n",
      "                  'comment': 0,\n",
      "                  'default': 0,\n",
      "                  'dub': 0,\n",
      "                  'forced': 0,\n",
      "                  'hearing_impaired': 0,\n",
      "                  'karaoke': 0,\n",
      "                  'lyrics': 0,\n",
      "                  'original': 0,\n",
      "                  'timed_thumbnails': 0,\n",
      "                  'visual_impaired': 0},\n",
      "  'duration': '55.928150',\n",
      "  'duration_ts': 789258053,\n",
      "  'index': 0,\n",
      "  'r_frame_rate': '0/0',\n",
      "  'sample_fmt': 'fltp',\n",
      "  'sample_rate': '44100',\n",
      "  'start_pts': 0,\n",
      "  'start_time': '0.000000',\n",
      "  'time_base': '1/14112000'}]\n"
     ]
    }
   ],
   "source": [
    "media_file = files[4] #\"file_example_MP4_480_1_5MG.mp4\"\n",
    "# pprint(ffmpeg.probe(media_file)[\"streams\"])\n",
    "pprint(ffmpeg.probe(media_file)[\"streams\"])\n",
    "# pprint(ffmpeg.probe(media_file)[\"streams\"][1])"
   ]
  },
  {
   "cell_type": "code",
   "execution_count": 20,
   "id": "729afded",
   "metadata": {},
   "outputs": [
    {
     "name": "stdout",
     "output_type": "stream",
     "text": [
      "[{'avg_frame_rate': '25/1',\n",
      "  'bit_rate': '7978432',\n",
      "  'bits_per_raw_sample': '8',\n",
      "  'chroma_location': 'left',\n",
      "  'codec_long_name': 'H.264 / AVC / MPEG-4 AVC / MPEG-4 part 10',\n",
      "  'codec_name': 'h264',\n",
      "  'codec_tag': '0x31637661',\n",
      "  'codec_tag_string': 'avc1',\n",
      "  'codec_time_base': '1/50',\n",
      "  'codec_type': 'video',\n",
      "  'coded_height': 2160,\n",
      "  'coded_width': 3840,\n",
      "  'color_primaries': 'bt709',\n",
      "  'color_range': 'tv',\n",
      "  'color_space': 'bt709',\n",
      "  'color_transfer': 'bt709',\n",
      "  'disposition': {'attached_pic': 0,\n",
      "                  'clean_effects': 0,\n",
      "                  'comment': 0,\n",
      "                  'default': 1,\n",
      "                  'dub': 0,\n",
      "                  'forced': 0,\n",
      "                  'hearing_impaired': 0,\n",
      "                  'karaoke': 0,\n",
      "                  'lyrics': 0,\n",
      "                  'original': 0,\n",
      "                  'timed_thumbnails': 0,\n",
      "                  'visual_impaired': 0},\n",
      "  'duration': '13.960000',\n",
      "  'duration_ts': 349,\n",
      "  'has_b_frames': 2,\n",
      "  'height': 2160,\n",
      "  'index': 0,\n",
      "  'is_avc': 'true',\n",
      "  'level': 52,\n",
      "  'nal_length_size': '4',\n",
      "  'nb_frames': '349',\n",
      "  'pix_fmt': 'yuv420p',\n",
      "  'profile': 'High',\n",
      "  'r_frame_rate': '25/1',\n",
      "  'refs': 1,\n",
      "  'start_pts': 0,\n",
      "  'start_time': '0.000000',\n",
      "  'tags': {'creation_time': '2019-11-08T07:16:37.000000Z',\n",
      "           'encoder': 'AVC Coding',\n",
      "           'handler_name': 'L-SMASH Video Handler',\n",
      "           'language': 'und'},\n",
      "  'time_base': '1/25',\n",
      "  'width': 3840}]\n"
     ]
    }
   ],
   "source": [
    "media_file = files[-1] #\"file_example_MP4_480_1_5MG.mp4\"\n",
    "# pprint(ffmpeg.probe(media_file)[\"streams\"])\n",
    "pprint(ffmpeg.probe(media_file)[\"streams\"])\n",
    "# pprint(ffmpeg.probe(media_file)[\"streams\"][1])"
   ]
  },
  {
   "cell_type": "code",
   "execution_count": 21,
   "id": "1a271032",
   "metadata": {},
   "outputs": [
    {
     "name": "stdout",
     "output_type": "stream",
     "text": [
      "[{'avg_frame_rate': '0/0',\n",
      "  'bits_per_raw_sample': '8',\n",
      "  'chroma_location': 'center',\n",
      "  'codec_long_name': 'Motion JPEG',\n",
      "  'codec_name': 'mjpeg',\n",
      "  'codec_tag': '0x0000',\n",
      "  'codec_tag_string': '[0][0][0][0]',\n",
      "  'codec_time_base': '0/1',\n",
      "  'codec_type': 'video',\n",
      "  'coded_height': 315,\n",
      "  'coded_width': 420,\n",
      "  'color_range': 'pc',\n",
      "  'color_space': 'bt470bg',\n",
      "  'display_aspect_ratio': '4:3',\n",
      "  'disposition': {'attached_pic': 0,\n",
      "                  'clean_effects': 0,\n",
      "                  'comment': 0,\n",
      "                  'default': 0,\n",
      "                  'dub': 0,\n",
      "                  'forced': 0,\n",
      "                  'hearing_impaired': 0,\n",
      "                  'karaoke': 0,\n",
      "                  'lyrics': 0,\n",
      "                  'original': 0,\n",
      "                  'timed_thumbnails': 0,\n",
      "                  'visual_impaired': 0},\n",
      "  'duration': '0.040000',\n",
      "  'duration_ts': 1,\n",
      "  'has_b_frames': 0,\n",
      "  'height': 315,\n",
      "  'index': 0,\n",
      "  'level': -99,\n",
      "  'pix_fmt': 'yuvj420p',\n",
      "  'profile': 'Baseline',\n",
      "  'r_frame_rate': '25/1',\n",
      "  'refs': 1,\n",
      "  'sample_aspect_ratio': '1:1',\n",
      "  'start_pts': 0,\n",
      "  'start_time': '0.000000',\n",
      "  'time_base': '1/25',\n",
      "  'width': 420}]\n"
     ]
    }
   ],
   "source": [
    "media_file = files[2] #\"file_example_MP4_480_1_5MG.mp4\"\n",
    "# pprint(ffmpeg.probe(media_file)[\"streams\"])\n",
    "pprint(ffmpeg.probe(media_file)[\"streams\"])\n",
    "# pprint(ffmpeg.probe(media_file)[\"streams\"][1])"
   ]
  },
  {
   "cell_type": "code",
   "execution_count": 44,
   "id": "ae9e7aaa",
   "metadata": {},
   "outputs": [
    {
     "name": "stdout",
     "output_type": "stream",
     "text": [
      "0.0 MB\n",
      "5240 bytes\n",
      "Created on: 2023-05-19 11:22:22\n"
     ]
    }
   ],
   "source": [
    "import os\n",
    "import datetime\n",
    "file = r\"D:\\download\\Chat_Transcript.txt\"\n",
    "aa = os.stat(file)\n",
    "print(round(aa.st_size/1048576,1), 'MB')\n",
    "print(round(aa.st_size), 'bytes')\n",
    "c_time = os.path.getctime(file)\n",
    "dt_c = datetime.datetime.fromtimestamp(c_time).strftime(\"%Y-%m-%d %H:%M:%S\")\n",
    "print('Created on:', dt_c)"
   ]
  },
  {
   "cell_type": "code",
   "execution_count": null,
   "id": "538d7f82",
   "metadata": {},
   "outputs": [],
   "source": []
  }
 ],
 "metadata": {
  "kernelspec": {
   "display_name": "Python 3 (ipykernel)",
   "language": "python",
   "name": "python3"
  },
  "language_info": {
   "codemirror_mode": {
    "name": "ipython",
    "version": 3
   },
   "file_extension": ".py",
   "mimetype": "text/x-python",
   "name": "python",
   "nbconvert_exporter": "python",
   "pygments_lexer": "ipython3",
   "version": "3.9.12"
  }
 },
 "nbformat": 4,
 "nbformat_minor": 5
}
